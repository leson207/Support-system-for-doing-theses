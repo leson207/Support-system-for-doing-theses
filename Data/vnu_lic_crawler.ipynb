{
  "nbformat": 4,
  "nbformat_minor": 0,
  "metadata": {
    "colab": {
      "provenance": []
    },
    "kernelspec": {
      "name": "python3",
      "display_name": "Python 3"
    },
    "language_info": {
      "name": "python"
    }
  },
  "cells": [
    {
      "cell_type": "code",
      "source": [
        "%%capture\n",
        "!pip install selenium\n",
        "!apt-get update\n",
        "!apt-get install -y chromium-chromedriver"
      ],
      "metadata": {
        "id": "3n9LMzUjjgzI"
      },
      "execution_count": null,
      "outputs": []
    },
    {
      "cell_type": "code",
      "source": [
        "from selenium import webdriver\n",
        "from selenium.webdriver.common.by import By\n",
        "from selenium.webdriver.chrome.options import Options\n",
        "\n",
        "from IPython.display import clear_output\n",
        "import time\n",
        "\n",
        "from tqdm.auto import tqdm\n",
        "import pandas as pd"
      ],
      "metadata": {
        "id": "g3QmrSQlhi5d"
      },
      "execution_count": null,
      "outputs": []
    },
    {
      "cell_type": "code",
      "execution_count": null,
      "metadata": {
        "id": "OCl67nSjjPsU"
      },
      "outputs": [],
      "source": [
        "df = pd.DataFrame(\n",
        "    {'Title': [], 'Link': [], 'Type': [], 'Abstract': [], 'Keyword': [], 'Citation': [], 'Author': [], 'Advisor': [],\n",
        "     'Year': [], 'Collection': []})\n",
        "\n",
        "chrome_driver_path = \"/content/chromedriver.exe\"\n",
        "chrome_options = Options()\n",
        "# chrome_options.page_load_strategy = 'none'\n",
        "chrome_options.add_argument('--headless')\n",
        "chrome_options.add_argument('--no-sandbox')\n",
        "chrome_options.add_argument('--disable-dev-shm-usage')\n",
        "chrome_options.binary_location = '/content/chromedriver.exe'\n",
        "driver = webdriver.Chrome(options=chrome_options)\n",
        "driver_1 = webdriver.Chrome(options=chrome_options)\n",
        "\n",
        "def get_paper_list(link):\n",
        "    cur_row=0\n",
        "    driver.get(link)\n",
        "    collects = driver.find_element(By.XPATH, '/html/body/div[6]/div/div/div/div[2]/div').find_elements(By.TAG_NAME,'a')\n",
        "    for i in collects:\n",
        "        paper_list = i.get_attribute('href')\n",
        "        driver_1.get(paper_list)\n",
        "        pages=[page.get_attribute('name') for page in driver_1.find_elements(By.XPATH, '/html/body/div[5]/div[1]/div[2]/div/div/div/div[3]/ul/li/a')][1:-1]\n",
        "        for page_num in pages:\n",
        "            paper_list = i.get_attribute('href')+'?offset='+page_num\n",
        "            driver_1.get(paper_list)\n",
        "            items = driver_1.find_elements(By.XPATH, '/html/body/div[5]/div[1]/div[2]/div/div/div/table/tbody//strong/a')\n",
        "            types = driver_1.find_elements(By.XPATH, '/html/body/div[5]/div[1]/div[2]/div/div/div/table/tbody//div[@class=\"col-md-12 browse-type\"]/li')\n",
        "            for j in range(len(items)):\n",
        "                paper_link = items[j].get_attribute('href')\n",
        "                clear_output(wait=True)\n",
        "                print(paper_list)\n",
        "                print(paper_link)\n",
        "                df.loc[cur_row, 'Link'] = paper_link\n",
        "                df.loc[cur_row, 'Collection'] = i.text\n",
        "                df.loc[cur_row, 'Type'] = types[j].text\n",
        "                cur_row = cur_row + 1\n",
        "\n",
        "                display(df.tail())\n",
        "\n",
        "            df.to_excel('lic.xlsx', index=True)\n",
        "\n",
        "        # return\n",
        "\n",
        "# get_paper_list('https://repository.vnu.edu.vn/handle/VNU_123/33109')\n",
        "\n",
        "# df.to_excel('lic.xlsx', index=True)"
      ]
    },
    {
      "cell_type": "code",
      "source": [
        "for index in tqdm(range(len(df))):\n",
        "    driver.get(df.loc[index,'Link'])\n",
        "    df.loc[index,'Title'] = driver.find_element(By.XPATH, \"/html/body/div[5]/div[2]/div/h2\").text\n",
        "    df.loc[index,'Year'] = driver.find_element(By.XPATH, '/html/body/div[5]/div[2]/div/div[2]/div/div[1]/div[2]/div[2]/div[1]').text\n",
        "    df.loc[index,'Author'] = driver.find_element(By.XPATH, '/html/body/div[5]/div[2]/div/div[2]/div/div[1]/div[2]/div[2]/div[2]').text\n",
        "    Advisor=driver.find_elements(By.XPATH, '/html/body/div[5]/div[2]/div/div[2]/div/div[1]/div[2]/div[2]/div[3]')\n",
        "    if len(Advisor)!=0:\n",
        "        df.loc[index,'Advisor'] = Advisor[0].text\n",
        "    df.loc[index,'Abstract'] = driver.find_element(By.XPATH, '/html/body/div[5]/div[2]/div/div[2]/div/div[2]/div[1]/p').text\n",
        "    Citations=driver.find_elements(By.XPATH, '/html/body/div[5]/div[2]/div/div[2]/div/div[2]/div[2]//span')\n",
        "    if len(Citations)>=2:\n",
        "        df.loc[index,'Keyword'] = Citations[0].text\n",
        "        df.loc[index,'Citation'] = Citations[1].text\n",
        "    else:\n",
        "        df.loc[index,'Citation'] = Citations[0].text\n",
        "\n",
        "    if index%10==0:\n",
        "        df.to_excel('lic.xlsx', index=False)"
      ],
      "metadata": {
        "id": "cXEE14xKR_XC"
      },
      "execution_count": null,
      "outputs": []
    },
    {
      "cell_type": "code",
      "source": [
        "df.to_excel('lic.xlsx', index=True)"
      ],
      "metadata": {
        "id": "-MELuUiXDHgQ"
      },
      "execution_count": null,
      "outputs": []
    },
    {
      "cell_type": "code",
      "source": [
        "df.loc[42]['Link']"
      ],
      "metadata": {
        "colab": {
          "base_uri": "https://localhost:8080/",
          "height": 36
        },
        "id": "cuA5DTrdDKUh",
        "outputId": "c2fcf605-7701-4e1c-afd5-3e61f430fd0b"
      },
      "execution_count": null,
      "outputs": [
        {
          "output_type": "execute_result",
          "data": {
            "text/plain": [
              "'https://repository.vnu.edu.vn/handle/VNU_123/138324'"
            ],
            "application/vnd.google.colaboratory.intrinsic+json": {
              "type": "string"
            }
          },
          "metadata": {},
          "execution_count": 115
        }
      ]
    },
    {
      "cell_type": "code",
      "source": [
        "driver = webdriver.Chrome(options=chrome_options)\n",
        "\n",
        "driver.get('https://repository.vnu.edu.vn/handle/VNU_123/138324')\n",
        "a=driver.find_elements(By.XPATH, '//div[@class=\"okr-item-page-field-wrapper\"]//div[@class=\"citation\"]')\n",
        "\n",
        "print(len(a))"
      ],
      "metadata": {
        "colab": {
          "base_uri": "https://localhost:8080/"
        },
        "id": "4Ptosp2nUD5X",
        "outputId": "898c13dd-51ec-49ff-c6b6-aea2d9f17d04"
      },
      "execution_count": null,
      "outputs": [
        {
          "output_type": "stream",
          "name": "stdout",
          "text": [
            "2\n"
          ]
        }
      ]
    },
    {
      "cell_type": "code",
      "source": [
        "for i in a:\n",
        "  print(i.text)\n",
        "  # break"
      ],
      "metadata": {
        "colab": {
          "base_uri": "https://localhost:8080/"
        },
        "id": "SXvTyhbhgCHM",
        "outputId": "c157ab63-d844-44c2-9f0b-091882eacc7d"
      },
      "execution_count": null,
      "outputs": [
        {
          "output_type": "stream",
          "name": "stdout",
          "text": [
            "\n",
            "Nguyen, T. N. T., et al. (2019). Air pollution monitoring network using low-cost sensors, a case study in Hanoi, Vietnam. In 4th International Forum on Sustainable Future in Asia 4th NIES International Forum, 23–24 January 2019, Pan Pacific Hanoi, Vietnam.\n"
          ]
        }
      ]
    }
  ]
}