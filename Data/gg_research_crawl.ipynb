{
  "nbformat": 4,
  "nbformat_minor": 0,
  "metadata": {
    "colab": {
      "provenance": []
    },
    "kernelspec": {
      "name": "python3",
      "display_name": "Python 3"
    },
    "language_info": {
      "name": "python"
    },
    "widgets": {
      "application/vnd.jupyter.widget-state+json": {
        "f5061bf2abd04961b9dd3c3ab9e6cfc4": {
          "model_module": "@jupyter-widgets/controls",
          "model_name": "HBoxModel",
          "model_module_version": "1.5.0",
          "state": {
            "_dom_classes": [],
            "_model_module": "@jupyter-widgets/controls",
            "_model_module_version": "1.5.0",
            "_model_name": "HBoxModel",
            "_view_count": null,
            "_view_module": "@jupyter-widgets/controls",
            "_view_module_version": "1.5.0",
            "_view_name": "HBoxView",
            "box_style": "",
            "children": [
              "IPY_MODEL_51b1cedc02854cfb9f0c1ef3c4a69f95",
              "IPY_MODEL_0389c05faeb94de2b60dfe37ae307a76",
              "IPY_MODEL_d14d38858e524a089d8f287909e95032"
            ],
            "layout": "IPY_MODEL_7b69700397864058aa6a1d4312a1eee4"
          }
        },
        "51b1cedc02854cfb9f0c1ef3c4a69f95": {
          "model_module": "@jupyter-widgets/controls",
          "model_name": "HTMLModel",
          "model_module_version": "1.5.0",
          "state": {
            "_dom_classes": [],
            "_model_module": "@jupyter-widgets/controls",
            "_model_module_version": "1.5.0",
            "_model_name": "HTMLModel",
            "_view_count": null,
            "_view_module": "@jupyter-widgets/controls",
            "_view_module_version": "1.5.0",
            "_view_name": "HTMLView",
            "description": "",
            "description_tooltip": null,
            "layout": "IPY_MODEL_b6f12869ee5a4e83915b564f020db03d",
            "placeholder": "​",
            "style": "IPY_MODEL_4552e1e84ee24169b654dc13b5146d4f",
            "value": "100%"
          }
        },
        "0389c05faeb94de2b60dfe37ae307a76": {
          "model_module": "@jupyter-widgets/controls",
          "model_name": "FloatProgressModel",
          "model_module_version": "1.5.0",
          "state": {
            "_dom_classes": [],
            "_model_module": "@jupyter-widgets/controls",
            "_model_module_version": "1.5.0",
            "_model_name": "FloatProgressModel",
            "_view_count": null,
            "_view_module": "@jupyter-widgets/controls",
            "_view_module_version": "1.5.0",
            "_view_name": "ProgressView",
            "bar_style": "success",
            "description": "",
            "description_tooltip": null,
            "layout": "IPY_MODEL_1eb276aaa73741e7a672d46a83dbb2b8",
            "max": 155,
            "min": 0,
            "orientation": "horizontal",
            "style": "IPY_MODEL_e230e48367264797ab004a6e9fb7850c",
            "value": 155
          }
        },
        "d14d38858e524a089d8f287909e95032": {
          "model_module": "@jupyter-widgets/controls",
          "model_name": "HTMLModel",
          "model_module_version": "1.5.0",
          "state": {
            "_dom_classes": [],
            "_model_module": "@jupyter-widgets/controls",
            "_model_module_version": "1.5.0",
            "_model_name": "HTMLModel",
            "_view_count": null,
            "_view_module": "@jupyter-widgets/controls",
            "_view_module_version": "1.5.0",
            "_view_name": "HTMLView",
            "description": "",
            "description_tooltip": null,
            "layout": "IPY_MODEL_f16070472fad4aefbc81b78821510726",
            "placeholder": "​",
            "style": "IPY_MODEL_d4d9bd8305b4441c8d478e4ed6165b98",
            "value": " 155/155 [02:16&lt;00:00,  1.45it/s]"
          }
        },
        "7b69700397864058aa6a1d4312a1eee4": {
          "model_module": "@jupyter-widgets/base",
          "model_name": "LayoutModel",
          "model_module_version": "1.2.0",
          "state": {
            "_model_module": "@jupyter-widgets/base",
            "_model_module_version": "1.2.0",
            "_model_name": "LayoutModel",
            "_view_count": null,
            "_view_module": "@jupyter-widgets/base",
            "_view_module_version": "1.2.0",
            "_view_name": "LayoutView",
            "align_content": null,
            "align_items": null,
            "align_self": null,
            "border": null,
            "bottom": null,
            "display": null,
            "flex": null,
            "flex_flow": null,
            "grid_area": null,
            "grid_auto_columns": null,
            "grid_auto_flow": null,
            "grid_auto_rows": null,
            "grid_column": null,
            "grid_gap": null,
            "grid_row": null,
            "grid_template_areas": null,
            "grid_template_columns": null,
            "grid_template_rows": null,
            "height": null,
            "justify_content": null,
            "justify_items": null,
            "left": null,
            "margin": null,
            "max_height": null,
            "max_width": null,
            "min_height": null,
            "min_width": null,
            "object_fit": null,
            "object_position": null,
            "order": null,
            "overflow": null,
            "overflow_x": null,
            "overflow_y": null,
            "padding": null,
            "right": null,
            "top": null,
            "visibility": null,
            "width": null
          }
        },
        "b6f12869ee5a4e83915b564f020db03d": {
          "model_module": "@jupyter-widgets/base",
          "model_name": "LayoutModel",
          "model_module_version": "1.2.0",
          "state": {
            "_model_module": "@jupyter-widgets/base",
            "_model_module_version": "1.2.0",
            "_model_name": "LayoutModel",
            "_view_count": null,
            "_view_module": "@jupyter-widgets/base",
            "_view_module_version": "1.2.0",
            "_view_name": "LayoutView",
            "align_content": null,
            "align_items": null,
            "align_self": null,
            "border": null,
            "bottom": null,
            "display": null,
            "flex": null,
            "flex_flow": null,
            "grid_area": null,
            "grid_auto_columns": null,
            "grid_auto_flow": null,
            "grid_auto_rows": null,
            "grid_column": null,
            "grid_gap": null,
            "grid_row": null,
            "grid_template_areas": null,
            "grid_template_columns": null,
            "grid_template_rows": null,
            "height": null,
            "justify_content": null,
            "justify_items": null,
            "left": null,
            "margin": null,
            "max_height": null,
            "max_width": null,
            "min_height": null,
            "min_width": null,
            "object_fit": null,
            "object_position": null,
            "order": null,
            "overflow": null,
            "overflow_x": null,
            "overflow_y": null,
            "padding": null,
            "right": null,
            "top": null,
            "visibility": null,
            "width": null
          }
        },
        "4552e1e84ee24169b654dc13b5146d4f": {
          "model_module": "@jupyter-widgets/controls",
          "model_name": "DescriptionStyleModel",
          "model_module_version": "1.5.0",
          "state": {
            "_model_module": "@jupyter-widgets/controls",
            "_model_module_version": "1.5.0",
            "_model_name": "DescriptionStyleModel",
            "_view_count": null,
            "_view_module": "@jupyter-widgets/base",
            "_view_module_version": "1.2.0",
            "_view_name": "StyleView",
            "description_width": ""
          }
        },
        "1eb276aaa73741e7a672d46a83dbb2b8": {
          "model_module": "@jupyter-widgets/base",
          "model_name": "LayoutModel",
          "model_module_version": "1.2.0",
          "state": {
            "_model_module": "@jupyter-widgets/base",
            "_model_module_version": "1.2.0",
            "_model_name": "LayoutModel",
            "_view_count": null,
            "_view_module": "@jupyter-widgets/base",
            "_view_module_version": "1.2.0",
            "_view_name": "LayoutView",
            "align_content": null,
            "align_items": null,
            "align_self": null,
            "border": null,
            "bottom": null,
            "display": null,
            "flex": null,
            "flex_flow": null,
            "grid_area": null,
            "grid_auto_columns": null,
            "grid_auto_flow": null,
            "grid_auto_rows": null,
            "grid_column": null,
            "grid_gap": null,
            "grid_row": null,
            "grid_template_areas": null,
            "grid_template_columns": null,
            "grid_template_rows": null,
            "height": null,
            "justify_content": null,
            "justify_items": null,
            "left": null,
            "margin": null,
            "max_height": null,
            "max_width": null,
            "min_height": null,
            "min_width": null,
            "object_fit": null,
            "object_position": null,
            "order": null,
            "overflow": null,
            "overflow_x": null,
            "overflow_y": null,
            "padding": null,
            "right": null,
            "top": null,
            "visibility": null,
            "width": null
          }
        },
        "e230e48367264797ab004a6e9fb7850c": {
          "model_module": "@jupyter-widgets/controls",
          "model_name": "ProgressStyleModel",
          "model_module_version": "1.5.0",
          "state": {
            "_model_module": "@jupyter-widgets/controls",
            "_model_module_version": "1.5.0",
            "_model_name": "ProgressStyleModel",
            "_view_count": null,
            "_view_module": "@jupyter-widgets/base",
            "_view_module_version": "1.2.0",
            "_view_name": "StyleView",
            "bar_color": null,
            "description_width": ""
          }
        },
        "f16070472fad4aefbc81b78821510726": {
          "model_module": "@jupyter-widgets/base",
          "model_name": "LayoutModel",
          "model_module_version": "1.2.0",
          "state": {
            "_model_module": "@jupyter-widgets/base",
            "_model_module_version": "1.2.0",
            "_model_name": "LayoutModel",
            "_view_count": null,
            "_view_module": "@jupyter-widgets/base",
            "_view_module_version": "1.2.0",
            "_view_name": "LayoutView",
            "align_content": null,
            "align_items": null,
            "align_self": null,
            "border": null,
            "bottom": null,
            "display": null,
            "flex": null,
            "flex_flow": null,
            "grid_area": null,
            "grid_auto_columns": null,
            "grid_auto_flow": null,
            "grid_auto_rows": null,
            "grid_column": null,
            "grid_gap": null,
            "grid_row": null,
            "grid_template_areas": null,
            "grid_template_columns": null,
            "grid_template_rows": null,
            "height": null,
            "justify_content": null,
            "justify_items": null,
            "left": null,
            "margin": null,
            "max_height": null,
            "max_width": null,
            "min_height": null,
            "min_width": null,
            "object_fit": null,
            "object_position": null,
            "order": null,
            "overflow": null,
            "overflow_x": null,
            "overflow_y": null,
            "padding": null,
            "right": null,
            "top": null,
            "visibility": null,
            "width": null
          }
        },
        "d4d9bd8305b4441c8d478e4ed6165b98": {
          "model_module": "@jupyter-widgets/controls",
          "model_name": "DescriptionStyleModel",
          "model_module_version": "1.5.0",
          "state": {
            "_model_module": "@jupyter-widgets/controls",
            "_model_module_version": "1.5.0",
            "_model_name": "DescriptionStyleModel",
            "_view_count": null,
            "_view_module": "@jupyter-widgets/base",
            "_view_module_version": "1.2.0",
            "_view_name": "StyleView",
            "description_width": ""
          }
        },
        "612f3bf1b204402ab83345f7fc697fc7": {
          "model_module": "@jupyter-widgets/controls",
          "model_name": "HBoxModel",
          "model_module_version": "1.5.0",
          "state": {
            "_dom_classes": [],
            "_model_module": "@jupyter-widgets/controls",
            "_model_module_version": "1.5.0",
            "_model_name": "HBoxModel",
            "_view_count": null,
            "_view_module": "@jupyter-widgets/controls",
            "_view_module_version": "1.5.0",
            "_view_name": "HBoxView",
            "box_style": "",
            "children": [
              "IPY_MODEL_8ac0d6ed32fe480c99c18748990e9e1d",
              "IPY_MODEL_e6f6f026b74e46f7ac5c8c596e92e3a6",
              "IPY_MODEL_95342fe68fdc4ee497c479d3d86b95e7"
            ],
            "layout": "IPY_MODEL_0a629f18eaec45f6af53b4d023a28427"
          }
        },
        "8ac0d6ed32fe480c99c18748990e9e1d": {
          "model_module": "@jupyter-widgets/controls",
          "model_name": "HTMLModel",
          "model_module_version": "1.5.0",
          "state": {
            "_dom_classes": [],
            "_model_module": "@jupyter-widgets/controls",
            "_model_module_version": "1.5.0",
            "_model_name": "HTMLModel",
            "_view_count": null,
            "_view_module": "@jupyter-widgets/controls",
            "_view_module_version": "1.5.0",
            "_view_name": "HTMLView",
            "description": "",
            "description_tooltip": null,
            "layout": "IPY_MODEL_2284b70b4af346cb86a3167bc575d833",
            "placeholder": "​",
            "style": "IPY_MODEL_bc55753cf95240028ba126ce58ac58a3",
            "value": "100%"
          }
        },
        "e6f6f026b74e46f7ac5c8c596e92e3a6": {
          "model_module": "@jupyter-widgets/controls",
          "model_name": "FloatProgressModel",
          "model_module_version": "1.5.0",
          "state": {
            "_dom_classes": [],
            "_model_module": "@jupyter-widgets/controls",
            "_model_module_version": "1.5.0",
            "_model_name": "FloatProgressModel",
            "_view_count": null,
            "_view_module": "@jupyter-widgets/controls",
            "_view_module_version": "1.5.0",
            "_view_name": "ProgressView",
            "bar_style": "success",
            "description": "",
            "description_tooltip": null,
            "layout": "IPY_MODEL_dedb0088381e4bdd8854d15bbded8037",
            "max": 2119,
            "min": 0,
            "orientation": "horizontal",
            "style": "IPY_MODEL_707a791cebf84e69979abf0d67203a5a",
            "value": 2119
          }
        },
        "95342fe68fdc4ee497c479d3d86b95e7": {
          "model_module": "@jupyter-widgets/controls",
          "model_name": "HTMLModel",
          "model_module_version": "1.5.0",
          "state": {
            "_dom_classes": [],
            "_model_module": "@jupyter-widgets/controls",
            "_model_module_version": "1.5.0",
            "_model_name": "HTMLModel",
            "_view_count": null,
            "_view_module": "@jupyter-widgets/controls",
            "_view_module_version": "1.5.0",
            "_view_name": "HTMLView",
            "description": "",
            "description_tooltip": null,
            "layout": "IPY_MODEL_727481648fa742768728330516163941",
            "placeholder": "​",
            "style": "IPY_MODEL_2a25d76c0ed2443896429eaf5efe4e75",
            "value": " 2119/2119 [20:53&lt;00:00,  1.95it/s]"
          }
        },
        "0a629f18eaec45f6af53b4d023a28427": {
          "model_module": "@jupyter-widgets/base",
          "model_name": "LayoutModel",
          "model_module_version": "1.2.0",
          "state": {
            "_model_module": "@jupyter-widgets/base",
            "_model_module_version": "1.2.0",
            "_model_name": "LayoutModel",
            "_view_count": null,
            "_view_module": "@jupyter-widgets/base",
            "_view_module_version": "1.2.0",
            "_view_name": "LayoutView",
            "align_content": null,
            "align_items": null,
            "align_self": null,
            "border": null,
            "bottom": null,
            "display": null,
            "flex": null,
            "flex_flow": null,
            "grid_area": null,
            "grid_auto_columns": null,
            "grid_auto_flow": null,
            "grid_auto_rows": null,
            "grid_column": null,
            "grid_gap": null,
            "grid_row": null,
            "grid_template_areas": null,
            "grid_template_columns": null,
            "grid_template_rows": null,
            "height": null,
            "justify_content": null,
            "justify_items": null,
            "left": null,
            "margin": null,
            "max_height": null,
            "max_width": null,
            "min_height": null,
            "min_width": null,
            "object_fit": null,
            "object_position": null,
            "order": null,
            "overflow": null,
            "overflow_x": null,
            "overflow_y": null,
            "padding": null,
            "right": null,
            "top": null,
            "visibility": null,
            "width": null
          }
        },
        "2284b70b4af346cb86a3167bc575d833": {
          "model_module": "@jupyter-widgets/base",
          "model_name": "LayoutModel",
          "model_module_version": "1.2.0",
          "state": {
            "_model_module": "@jupyter-widgets/base",
            "_model_module_version": "1.2.0",
            "_model_name": "LayoutModel",
            "_view_count": null,
            "_view_module": "@jupyter-widgets/base",
            "_view_module_version": "1.2.0",
            "_view_name": "LayoutView",
            "align_content": null,
            "align_items": null,
            "align_self": null,
            "border": null,
            "bottom": null,
            "display": null,
            "flex": null,
            "flex_flow": null,
            "grid_area": null,
            "grid_auto_columns": null,
            "grid_auto_flow": null,
            "grid_auto_rows": null,
            "grid_column": null,
            "grid_gap": null,
            "grid_row": null,
            "grid_template_areas": null,
            "grid_template_columns": null,
            "grid_template_rows": null,
            "height": null,
            "justify_content": null,
            "justify_items": null,
            "left": null,
            "margin": null,
            "max_height": null,
            "max_width": null,
            "min_height": null,
            "min_width": null,
            "object_fit": null,
            "object_position": null,
            "order": null,
            "overflow": null,
            "overflow_x": null,
            "overflow_y": null,
            "padding": null,
            "right": null,
            "top": null,
            "visibility": null,
            "width": null
          }
        },
        "bc55753cf95240028ba126ce58ac58a3": {
          "model_module": "@jupyter-widgets/controls",
          "model_name": "DescriptionStyleModel",
          "model_module_version": "1.5.0",
          "state": {
            "_model_module": "@jupyter-widgets/controls",
            "_model_module_version": "1.5.0",
            "_model_name": "DescriptionStyleModel",
            "_view_count": null,
            "_view_module": "@jupyter-widgets/base",
            "_view_module_version": "1.2.0",
            "_view_name": "StyleView",
            "description_width": ""
          }
        },
        "dedb0088381e4bdd8854d15bbded8037": {
          "model_module": "@jupyter-widgets/base",
          "model_name": "LayoutModel",
          "model_module_version": "1.2.0",
          "state": {
            "_model_module": "@jupyter-widgets/base",
            "_model_module_version": "1.2.0",
            "_model_name": "LayoutModel",
            "_view_count": null,
            "_view_module": "@jupyter-widgets/base",
            "_view_module_version": "1.2.0",
            "_view_name": "LayoutView",
            "align_content": null,
            "align_items": null,
            "align_self": null,
            "border": null,
            "bottom": null,
            "display": null,
            "flex": null,
            "flex_flow": null,
            "grid_area": null,
            "grid_auto_columns": null,
            "grid_auto_flow": null,
            "grid_auto_rows": null,
            "grid_column": null,
            "grid_gap": null,
            "grid_row": null,
            "grid_template_areas": null,
            "grid_template_columns": null,
            "grid_template_rows": null,
            "height": null,
            "justify_content": null,
            "justify_items": null,
            "left": null,
            "margin": null,
            "max_height": null,
            "max_width": null,
            "min_height": null,
            "min_width": null,
            "object_fit": null,
            "object_position": null,
            "order": null,
            "overflow": null,
            "overflow_x": null,
            "overflow_y": null,
            "padding": null,
            "right": null,
            "top": null,
            "visibility": null,
            "width": null
          }
        },
        "707a791cebf84e69979abf0d67203a5a": {
          "model_module": "@jupyter-widgets/controls",
          "model_name": "ProgressStyleModel",
          "model_module_version": "1.5.0",
          "state": {
            "_model_module": "@jupyter-widgets/controls",
            "_model_module_version": "1.5.0",
            "_model_name": "ProgressStyleModel",
            "_view_count": null,
            "_view_module": "@jupyter-widgets/base",
            "_view_module_version": "1.2.0",
            "_view_name": "StyleView",
            "bar_color": null,
            "description_width": ""
          }
        },
        "727481648fa742768728330516163941": {
          "model_module": "@jupyter-widgets/base",
          "model_name": "LayoutModel",
          "model_module_version": "1.2.0",
          "state": {
            "_model_module": "@jupyter-widgets/base",
            "_model_module_version": "1.2.0",
            "_model_name": "LayoutModel",
            "_view_count": null,
            "_view_module": "@jupyter-widgets/base",
            "_view_module_version": "1.2.0",
            "_view_name": "LayoutView",
            "align_content": null,
            "align_items": null,
            "align_self": null,
            "border": null,
            "bottom": null,
            "display": null,
            "flex": null,
            "flex_flow": null,
            "grid_area": null,
            "grid_auto_columns": null,
            "grid_auto_flow": null,
            "grid_auto_rows": null,
            "grid_column": null,
            "grid_gap": null,
            "grid_row": null,
            "grid_template_areas": null,
            "grid_template_columns": null,
            "grid_template_rows": null,
            "height": null,
            "justify_content": null,
            "justify_items": null,
            "left": null,
            "margin": null,
            "max_height": null,
            "max_width": null,
            "min_height": null,
            "min_width": null,
            "object_fit": null,
            "object_position": null,
            "order": null,
            "overflow": null,
            "overflow_x": null,
            "overflow_y": null,
            "padding": null,
            "right": null,
            "top": null,
            "visibility": null,
            "width": null
          }
        },
        "2a25d76c0ed2443896429eaf5efe4e75": {
          "model_module": "@jupyter-widgets/controls",
          "model_name": "DescriptionStyleModel",
          "model_module_version": "1.5.0",
          "state": {
            "_model_module": "@jupyter-widgets/controls",
            "_model_module_version": "1.5.0",
            "_model_name": "DescriptionStyleModel",
            "_view_count": null,
            "_view_module": "@jupyter-widgets/base",
            "_view_module_version": "1.2.0",
            "_view_name": "StyleView",
            "description_width": ""
          }
        }
      }
    }
  },
  "cells": [
    {
      "cell_type": "code",
      "execution_count": 1,
      "metadata": {
        "id": "G0QEEO9gMX9d"
      },
      "outputs": [],
      "source": [
        "%%capture\n",
        "!pip install selenium\n",
        "!apt-get update\n",
        "!apt-get install -y chromium-chromedriver"
      ]
    },
    {
      "cell_type": "code",
      "source": [
        "from selenium import webdriver\n",
        "from selenium.webdriver.common.by import By\n",
        "from selenium.webdriver.chrome.options import Options\n",
        "\n",
        "from IPython.display import clear_output\n",
        "import time\n",
        "\n",
        "from tqdm.auto import tqdm\n",
        "import pandas as pd"
      ],
      "metadata": {
        "id": "9_2mth11Mc5X"
      },
      "execution_count": 2,
      "outputs": []
    },
    {
      "cell_type": "code",
      "source": [
        "profile = pd.DataFrame(\n",
        "    {'Name': [], 'Link': [], 'Keyword': [], 'Citation': [], 'h-index': [], 'i10-index': [],\n",
        "     'Number of paper': [], 'School':[]})\n",
        "\n",
        "paper= pd.DataFrame(\n",
        "    {'Title': [], 'Link': [], 'Authors': [],'Description': [], 'Publisher': [], 'Journal': [], 'Citation': [],\n",
        "     'Publication date': [], 'Volume':[], 'Issue':[], 'Pages':[],'Inventors':[],'Conference':[]})\n",
        "\n",
        "chrome_options = Options()\n",
        "# chrome_options.page_load_strategy = 'none'\n",
        "chrome_options.add_argument('--headless')\n",
        "chrome_options.add_argument('--no-sandbox')\n",
        "chrome_options.add_argument('--disable-dev-shm-usage')\n",
        "chrome_options.binary_location = '/content/chromedriver.exe'\n",
        "driver = webdriver.Chrome(options=chrome_options)\n",
        "# driver_1 = webdriver.Chrome(options=chrome_options)\n",
        "\n",
        "def get_profile(link):\n",
        "    cur_row=0\n",
        "    driver.get(link)\n",
        "    next_button = driver.find_element(By.XPATH, '//*[@id=\"gsc_authors_bottom_pag\"]/div/button[2]')\n",
        "    while 1:\n",
        "        print(driver.current_url)\n",
        "        profiles = driver.find_elements(By.XPATH, '//h3[@class=\"gs_ai_name\"]/a')\n",
        "        keyword=driver.find_elements(By.XPATH, '//div[@class=\"gs_ai_int\"]')\n",
        "        cite=driver.find_elements(By.XPATH, '//div[@class=\"gs_ai_cby\"]')\n",
        "        school=driver.find_elements(By.XPATH, '//div[@class=\"gs_ai_aff\"]')\n",
        "        for i in range(len(profiles)):\n",
        "            profile.loc[cur_row,'Name']=profiles[i].text\n",
        "            profile.loc[cur_row,'Link']=profiles[i].get_attribute('href')\n",
        "            profile.loc[cur_row,'Keyword']=keyword[i].text\n",
        "            profile.loc[cur_row,'Citation']=cite[i].text\n",
        "            profile.loc[cur_row,'School']=school[i].text\n",
        "            cur_row=cur_row+1\n",
        "\n",
        "        next_button = driver.find_element(By.XPATH, '//*[@id=\"gsc_authors_bottom_pag\"]/div/button[2]')\n",
        "        if next_button.is_enabled()==False:\n",
        "            break\n",
        "        else:\n",
        "            next_button.click()\n",
        "\n",
        "get_profile('https://scholar.google.com.au/citations?hl=en&view_op=search_authors&mauthors=VNU-University+of+Engineering+and+Technology&btnG=')\n",
        "# get_profile('https://scholar.google.com.au/citations?view_op=view_org&hl=en&org=13319503632786364699&after_author=IVsgAQXp__8J&a')\n"
      ],
      "metadata": {
        "colab": {
          "base_uri": "https://localhost:8080/"
        },
        "id": "TKkuWRmnMdOO",
        "outputId": "427d6aca-70d9-48d9-9053-b28d65982154"
      },
      "execution_count": 3,
      "outputs": [
        {
          "output_type": "stream",
          "name": "stdout",
          "text": [
            "https://scholar.google.com.au/citations?hl=en&view_op=search_authors&mauthors=VNU-University+of+Engineering+and+Technology&btnG=\n",
            "https://scholar.google.com.au/citations?view_op=search_authors&hl=en&mauthors=VNU-University+of+Engineering+and+Technology&after_author=GIdmAff8__8J&astart=10\n",
            "https://scholar.google.com.au/citations?view_op=search_authors&hl=en&mauthors=VNU-University+of+Engineering+and+Technology&after_author=9DpTAcP9__8J&astart=20\n",
            "https://scholar.google.com.au/citations?view_op=search_authors&hl=en&mauthors=VNU-University+of+Engineering+and+Technology&after_author=WNLIAG3-__8J&astart=30\n",
            "https://scholar.google.com.au/citations?view_op=search_authors&hl=en&mauthors=VNU-University+of+Engineering+and+Technology&after_author=0EseAdD-__8J&astart=40\n",
            "https://scholar.google.com.au/citations?view_op=search_authors&hl=en&mauthors=VNU-University+of+Engineering+and+Technology&after_author=XreSAC____8J&astart=50\n",
            "https://scholar.google.com.au/citations?view_op=search_authors&hl=en&mauthors=VNU-University+of+Engineering+and+Technology&after_author=NOENAWz___8J&astart=60\n",
            "https://scholar.google.com.au/citations?view_op=search_authors&hl=en&mauthors=VNU-University+of+Engineering+and+Technology&after_author=TgwDAZH___8J&astart=70\n",
            "https://scholar.google.com.au/citations?view_op=search_authors&hl=en&mauthors=VNU-University+of+Engineering+and+Technology&after_author=Y7hnAbP___8J&astart=80\n",
            "https://scholar.google.com.au/citations?view_op=search_authors&hl=en&mauthors=VNU-University+of+Engineering+and+Technology&after_author=mK03Acr___8J&astart=90\n",
            "https://scholar.google.com.au/citations?view_op=search_authors&hl=en&mauthors=VNU-University+of+Engineering+and+Technology&after_author=InAPAdn___8J&astart=100\n",
            "https://scholar.google.com.au/citations?view_op=search_authors&hl=en&mauthors=VNU-University+of+Engineering+and+Technology&after_author=ebARAOX___8J&astart=110\n",
            "https://scholar.google.com.au/citations?view_op=search_authors&hl=en&mauthors=VNU-University+of+Engineering+and+Technology&after_author=yeNlAfb___8J&astart=120\n",
            "https://scholar.google.com.au/citations?view_op=search_authors&hl=en&mauthors=VNU-University+of+Engineering+and+Technology&after_author=FpIPAfn___8J&astart=130\n",
            "https://scholar.google.com.au/citations?view_op=search_authors&hl=en&mauthors=VNU-University+of+Engineering+and+Technology&after_author=cQuFAfv___8J&astart=140\n",
            "https://scholar.google.com.au/citations?view_op=search_authors&hl=en&mauthors=VNU-University+of+Engineering+and+Technology&after_author=Btt_Af3___8J&astart=150\n"
          ]
        }
      ]
    },
    {
      "cell_type": "code",
      "source": [
        "cur_row=0\n",
        "for i in tqdm(range(len(profile))):\n",
        "    if i%50==0:\n",
        "        driver.close()\n",
        "        driver = webdriver.Chrome(options=chrome_options)\n",
        "    driver.get(profile.loc[i,'Link'])\n",
        "    showmore_button=driver.find_element(By.XPATH, '//div[@id=\"gsc_bpf\"]/button')\n",
        "    while showmore_button.is_enabled():\n",
        "        showmore_button.click()\n",
        "    title=driver.find_elements(By.XPATH, '//td[@class=\"gsc_a_t\"]/a')\n",
        "    profile.loc[i,'Number of paper']=len(title)\n",
        "    hindex=driver.find_elements(By.XPATH, '//table[@id=\"gsc_rsb_st\"]//tr[2]/td[2]')\n",
        "    if len(hindex)>0:\n",
        "        profile.loc[i,'h-index']=hindex[0].get_attribute(\"innerHTML\")\n",
        "    i10index=driver.find_elements(By.XPATH, '//table[@id=\"gsc_rsb_st\"]//tr[3]/td[2]')\n",
        "    if len(hindex)>0:\n",
        "        profile.loc[i,'i10-index']=i10index[0].get_attribute(\"innerHTML\")\n",
        "    for j in title:\n",
        "        paper.loc[cur_row,'Title']=j.text\n",
        "        paper.loc[cur_row,'Link']=j.get_attribute('href')\n",
        "        cur_row=cur_row+1"
      ],
      "metadata": {
        "colab": {
          "base_uri": "https://localhost:8080/",
          "height": 49,
          "referenced_widgets": [
            "f5061bf2abd04961b9dd3c3ab9e6cfc4",
            "51b1cedc02854cfb9f0c1ef3c4a69f95",
            "0389c05faeb94de2b60dfe37ae307a76",
            "d14d38858e524a089d8f287909e95032",
            "7b69700397864058aa6a1d4312a1eee4",
            "b6f12869ee5a4e83915b564f020db03d",
            "4552e1e84ee24169b654dc13b5146d4f",
            "1eb276aaa73741e7a672d46a83dbb2b8",
            "e230e48367264797ab004a6e9fb7850c",
            "f16070472fad4aefbc81b78821510726",
            "d4d9bd8305b4441c8d478e4ed6165b98"
          ]
        },
        "id": "XFBKNQu0TtFm",
        "outputId": "e53cbe71-6ee9-4848-a4d7-0538cf50fcd8"
      },
      "execution_count": 4,
      "outputs": [
        {
          "output_type": "display_data",
          "data": {
            "text/plain": [
              "  0%|          | 0/155 [00:00<?, ?it/s]"
            ],
            "application/vnd.jupyter.widget-view+json": {
              "version_major": 2,
              "version_minor": 0,
              "model_id": "f5061bf2abd04961b9dd3c3ab9e6cfc4"
            }
          },
          "metadata": {}
        }
      ]
    },
    {
      "cell_type": "code",
      "source": [
        "paper.drop_duplicates(inplace=True)\n",
        "paper=paper.reset_index(drop=True)"
      ],
      "metadata": {
        "id": "PY0Zi_30w2y5"
      },
      "execution_count": 5,
      "outputs": []
    },
    {
      "cell_type": "code",
      "source": [
        "for i in tqdm(range(len(paper))):\n",
        "    if i%50==0:\n",
        "        driver.close()\n",
        "        driver = webdriver.Chrome(options=chrome_options)\n",
        "    driver.get(paper.loc[i,'Link'])\n",
        "    meta_data=driver.find_elements(By.XPATH, '//div[@class=\"gsc_oci_value\"]')\n",
        "    field=driver.find_elements(By.XPATH, '//div[@class=\"gsc_oci_field\"]')\n",
        "    for j in range(len(field)):\n",
        "        if field[j].text!='Citation':\n",
        "            paper.loc[i,field[j].text]=meta_data[j].text\n",
        "        elif field[j].text=='Citation':\n",
        "            paper.loc[i,'Citation']=meta_data[j].find_element(By.TAG_NAME,'a').text"
      ],
      "metadata": {
        "colab": {
          "base_uri": "https://localhost:8080/",
          "height": 49,
          "referenced_widgets": [
            "612f3bf1b204402ab83345f7fc697fc7",
            "8ac0d6ed32fe480c99c18748990e9e1d",
            "e6f6f026b74e46f7ac5c8c596e92e3a6",
            "95342fe68fdc4ee497c479d3d86b95e7",
            "0a629f18eaec45f6af53b4d023a28427",
            "2284b70b4af346cb86a3167bc575d833",
            "bc55753cf95240028ba126ce58ac58a3",
            "dedb0088381e4bdd8854d15bbded8037",
            "707a791cebf84e69979abf0d67203a5a",
            "727481648fa742768728330516163941",
            "2a25d76c0ed2443896429eaf5efe4e75"
          ]
        },
        "id": "VxC1SS5IeA96",
        "outputId": "7fa5ba9a-556c-4c6f-9ac2-d3e396a73685"
      },
      "execution_count": 6,
      "outputs": [
        {
          "output_type": "display_data",
          "data": {
            "text/plain": [
              "  0%|          | 0/2119 [00:00<?, ?it/s]"
            ],
            "application/vnd.jupyter.widget-view+json": {
              "version_major": 2,
              "version_minor": 0,
              "model_id": "612f3bf1b204402ab83345f7fc697fc7"
            }
          },
          "metadata": {}
        }
      ]
    },
    {
      "cell_type": "code",
      "source": [
        "profile.to_excel('profile.xlsx', index=False)\n",
        "paper.to_excel('paper.xlsx', index=False)"
      ],
      "metadata": {
        "id": "AysaRWvBlgnC"
      },
      "execution_count": 7,
      "outputs": []
    },
    {
      "cell_type": "code",
      "source": [
        "profile.loc[60,'Link']"
      ],
      "metadata": {
        "colab": {
          "base_uri": "https://localhost:8080/",
          "height": 36
        },
        "id": "sgZiaAKRcElx",
        "outputId": "8db0af17-47ee-4919-aadc-fa397a0bd732"
      },
      "execution_count": null,
      "outputs": [
        {
          "output_type": "execute_result",
          "data": {
            "text/plain": [
              "'https://scholar.google.com.au/citations?hl=en&user=GaqY-X4AAAAJ'"
            ],
            "application/vnd.google.colaboratory.intrinsic+json": {
              "type": "string"
            }
          },
          "metadata": {},
          "execution_count": 31
        }
      ]
    },
    {
      "cell_type": "code",
      "source": [
        "driver = webdriver.Chrome(options=chrome_options)\n",
        "\n",
        "driver.get('https://scholar.google.com.au/citations?view_op=view_citation&hl=en&user=caFAR1IAAAAJ&cstart=20&pagesize=80&citation_for_view=caFAR1IAAAAJ:Se3iqnhoufwC')\n",
        "a=driver.find_elements(By.PARTIAL_LINK_TEXT, '[PDF]')\n",
        "print(len(a))"
      ],
      "metadata": {
        "id": "wZM-URw0Nm_P",
        "colab": {
          "base_uri": "https://localhost:8080/"
        },
        "outputId": "4aea257d-f953-4c95-cfba-f07d949d0fa9"
      },
      "execution_count": null,
      "outputs": [
        {
          "output_type": "stream",
          "name": "stdout",
          "text": [
            "0\n"
          ]
        }
      ]
    },
    {
      "cell_type": "code",
      "source": [
        "for i in a:\n",
        "  print(i.get_attribute(\"innerHTML\"))\n",
        "  # break"
      ],
      "metadata": {
        "colab": {
          "base_uri": "https://localhost:8080/"
        },
        "id": "U_d1b_gfNrjp",
        "outputId": "19a5e59b-caf2-48cb-e83e-9763420c2bbd"
      },
      "execution_count": null,
      "outputs": [
        {
          "output_type": "stream",
          "name": "stdout",
          "text": [
            "<span class=\"gs_ico\"></span><span class=\"gs_ia_notf\"></span><span class=\"gs_lbl\"></span>\n",
            "<span class=\"gs_ico\"></span><span class=\"gs_ia_notf\"></span><span class=\"gs_lbl\"></span>\n",
            "\n",
            "<span class=\"gs_ico\"></span><span class=\"gs_ia_notf\"></span><span class=\"gs_lbl\">My profile</span>\n",
            "<span class=\"gs_ico\"></span><span class=\"gs_ia_notf\"></span><span class=\"gs_lbl\">My library</span>\n",
            "<span class=\"gs_ico\"></span><span class=\"gs_ia_notf\"></span><span class=\"gs_lbl\">Metrics</span>\n",
            "<span class=\"gs_ico\"></span><span class=\"gs_ia_notf\"></span><span class=\"gs_lbl\">Alerts</span>\n",
            "<span class=\"gs_ico\"></span><span class=\"gs_ia_notf\"></span><span class=\"gs_lbl\">Settings</span>\n",
            "<span class=\"gs_ico\"></span><span class=\"gs_ia_notf\"></span><span class=\"gs_lbl\">Sign in</span>\n",
            "<span class=\"gs_ico\"></span><span class=\"gs_ia_notf\"></span><span class=\"gs_lbl\"></span>\n",
            "Sign in\n",
            "\n",
            "<span class=\"gs_rimg gs_pp_sm\"><img alt=\"Nang Dinh Nguyen\" sizes=\"43px\" src=\"https://scholar.googleusercontent.com/citations?view_op=small_photo&amp;user=caFAR1IAAAAJ&amp;citpid=1\" srcset=\"https://scholar.googleusercontent.com/citations?view_op=small_photo&amp;user=caFAR1IAAAAJ&amp;citpid=1 43w,https://scholar.googleusercontent.com/citations?view_op=view_photo&amp;user=caFAR1IAAAAJ&amp;citpid=1 99w\" width=\"43\" height=\"56\"></span>\n",
            "Nang Dinh Nguyen\n",
            "Interstitial Brachytherapy (IBT) as a Boost For Breast Cancer in Women With Augmentation Implants\n",
            "Related articles\n",
            "All 2 versions\n",
            "Privacy\n",
            "Terms\n",
            "Help\n",
            "About Scholar\n",
            "Search help\n"
          ]
        }
      ]
    }
  ]
}