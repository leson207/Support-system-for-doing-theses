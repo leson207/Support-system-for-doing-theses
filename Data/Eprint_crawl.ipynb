{
  "cells": [
    {
      "cell_type": "code",
      "execution_count": null,
      "metadata": {
        "id": "7tqSF5e33jd8"
      },
      "outputs": [],
      "source": [
        "%%capture\n",
        "!pip install selenium\n",
        "!apt-get update\n",
        "!apt-get install -y chromium-chromedriver"
      ]
    },
    {
      "cell_type": "code",
      "execution_count": null,
      "metadata": {
        "id": "IhDOkrVV3mhf"
      },
      "outputs": [],
      "source": [
        "from selenium import webdriver\n",
        "from selenium.webdriver.common.by import By\n",
        "from selenium.webdriver.chrome.options import Options\n",
        "\n",
        "from IPython.display import clear_output\n",
        "import time\n",
        "\n",
        "from tqdm.auto import tqdm\n",
        "import pandas as pd"
      ]
    },
    {
      "cell_type": "code",
      "execution_count": null,
      "metadata": {
        "id": "PX8lZrTo3pix",
        "colab": {
          "base_uri": "https://localhost:8080/",
          "height": 49,
          "referenced_widgets": [
            "f3b931b880a34e62b87a146905567956",
            "8f7e583d26aa436aabeccf8a087f9ee3",
            "cc2fa3532f2643b195659ef20b7c0f03",
            "b8fd7250b5ce4649b7efa6b62bbc6488",
            "ae15427d2b4b4400800be5f9541d9350",
            "34b99d938004477cb878e1ce8da1919e",
            "d3b1dd1eface4de082c4d79b5f07ce9f",
            "587dec68ea984fb98749ad4ef6c28754",
            "da0cf92b9bde4c4db488159baecb38fe",
            "f420a9c86be94b0ca727aa1e9b2719ba",
            "d37fd9741ae84e93a0757765322b3fcb"
          ]
        },
        "outputId": "9128b07b-d2e1-49c3-d283-65774a76f243"
      },
      "outputs": [
        {
          "output_type": "display_data",
          "data": {
            "text/plain": [
              "  0%|          | 0/27 [00:00<?, ?it/s]"
            ],
            "application/vnd.jupyter.widget-view+json": {
              "version_major": 2,
              "version_minor": 0,
              "model_id": "f3b931b880a34e62b87a146905567956"
            }
          },
          "metadata": {}
        }
      ],
      "source": [
        "paper= pd.DataFrame(\n",
        "    {'Title': [], 'Link': [], 'Author': [],'Abstract': [], 'Item Type': [], 'Subjects': [], 'OfficalLink': [],'Divisions':[]})\n",
        "\n",
        "chrome_options = Options()\n",
        "# chrome_options.page_load_strategy = 'none'\n",
        "chrome_options.add_argument('--headless')\n",
        "chrome_options.add_argument('--no-sandbox')\n",
        "chrome_options.add_argument('--disable-dev-shm-usage')\n",
        "chrome_options.binary_location = '/content/chromedriver.exe'\n",
        "driver = webdriver.Chrome(options=chrome_options)\n",
        "driver_1 = webdriver.Chrome(options=chrome_options)\n",
        "\n",
        "def get_paper_link(link):\n",
        "    cur_row=0\n",
        "    driver.get(link)\n",
        "    year=driver.find_elements(By.XPATH, '//tbody//li/a')\n",
        "    for i in tqdm(year):\n",
        "        driver_1.get(i.get_attribute('href'))\n",
        "        paper_list=driver_1.find_elements(By.XPATH, '//tbody//p//a')\n",
        "        for j in paper_list:\n",
        "            paper.loc[cur_row,'Link']=j.get_attribute('href')\n",
        "            paper.loc[cur_row,'year']=i.text\n",
        "            cur_row=cur_row+1\n",
        "\n",
        "\n",
        "get_paper_link('https://eprints.uet.vnu.edu.vn/eprints/view/year/')"
      ]
    },
    {
      "cell_type": "code",
      "execution_count": null,
      "metadata": {
        "colab": {
          "base_uri": "https://localhost:8080/",
          "height": 49,
          "referenced_widgets": [
            "dd255cf4b75c4901ba466baa64c43fff",
            "6bb75953797440eaa5b5a4ef040f9e59",
            "bb4c85dd22ca4fa2b7516e77967eb493",
            "8d2cf58a64994861985c031deb348e42",
            "489a1aaa5c484b3d938772ac00e4a67c",
            "5e8a6cb895c440b19e1ea63e5c2f64d1",
            "e5a43f73b7ee4f4b809ec26ff3381755",
            "fc84b88628ac4db3b6a9ad2805cc0e46",
            "b11860eb806f4978becc36f227add2c9",
            "b97683e12eac4fb682814a85f913043a",
            "342d2aed13d54a4ab790d4c97ffefc3f"
          ]
        },
        "id": "p-FK8b8U7CYL",
        "outputId": "15cbadb0-ee6f-430e-d524-77ee6f8c2e28"
      },
      "outputs": [
        {
          "data": {
            "application/vnd.jupyter.widget-view+json": {
              "model_id": "dd255cf4b75c4901ba466baa64c43fff",
              "version_major": 2,
              "version_minor": 0
            },
            "text/plain": [
              "  0%|          | 0/2508 [00:00<?, ?it/s]"
            ]
          },
          "metadata": {},
          "output_type": "display_data"
        }
      ],
      "source": [
        "for i in tqdm(range(len(paper))):\n",
        "    if i%50==0:\n",
        "        driver.close()\n",
        "        driver = webdriver.Chrome(options=chrome_options)\n",
        "\n",
        "    driver.get(paper.loc[i,'Link'])\n",
        "    paper.loc[i,'Title']=driver.find_element(By.XPATH, '//h1[@class=\"ep_tm_pagetitle\"]').text\n",
        "    paper.loc[i,'Author']=''\n",
        "    for j in driver.find_elements(By.XPATH, '//span[@class=\"person_name\"]'):\n",
        "        paper.loc[i,'Author']=paper.loc[i,'Author']+' and '+j.text\n",
        "    tmp=driver.find_elements(By.XPATH, '/html/body/div[2]/table/tbody/tr/td/div/div[4]/table[1]/tbody/tr/td[2]/a')\n",
        "    tmp_1=driver.find_elements(By.XPATH, '/html/body/div[2]/table/tbody/tr/td/div/div[4]/div/a')\n",
        "    if len(tmp)>0:\n",
        "        paper.loc[i,'OfficalLink']=tmp[0].get_attribute('href')\n",
        "    elif len(tmp_1)>0:\n",
        "       paper.loc[i,'OfficalLink']=tmp_1[0].get_attribute('href')\n",
        "\n",
        "    tmp=driver.find_elements(By.XPATH, '/html/body/div[2]/table/tbody/tr/td/div/div[4]/p[2]')\n",
        "    if len(tmp)>0:\n",
        "        paper.loc[i,'Abstract']=tmp[0].text\n",
        "\n",
        "    tmp=driver.find_elements(By.XPATH, '//div[@class=\"ep_summary_content_main\"]//table/tbody/tr')\n",
        "    for j in range(len(tmp)):\n",
        "        field=tmp[j].find_elements(By.TAG_NAME,'th')\n",
        "\n",
        "        if len(field)>0:\n",
        "            paper.loc[i,field[0].text[:-1]]=tmp[j].find_element(By.TAG_NAME,'td').text"
      ]
    },
    {
      "cell_type": "code",
      "execution_count": null,
      "metadata": {
        "id": "1cycspxCJ07g"
      },
      "outputs": [],
      "source": [
        "paper.to_excel('eprint.xlsx',index=False)"
      ]
    },
    {
      "cell_type": "code",
      "execution_count": null,
      "metadata": {
        "colab": {
          "base_uri": "https://localhost:8080/",
          "height": 36
        },
        "id": "LvG3SpkOA4VS",
        "outputId": "7e631852-0771-4908-ac47-e8ae498a1bf0"
      },
      "outputs": [
        {
          "data": {
            "application/vnd.google.colaboratory.intrinsic+json": {
              "type": "string"
            },
            "text/plain": [
              "'https://eprints.uet.vnu.edu.vn/eprints/id/eprint/4729/'"
            ]
          },
          "execution_count": 83,
          "metadata": {},
          "output_type": "execute_result"
        }
      ],
      "source": [
        "paper.loc[14,'Link']"
      ]
    },
    {
      "cell_type": "code",
      "execution_count": null,
      "metadata": {
        "id": "tN4-hnC2wuXK"
      },
      "outputs": [],
      "source": [
        "driver = webdriver.Chrome(options=chrome_options)\n",
        "driver.get('https://eprints.uet.vnu.edu.vn/eprints/id/eprint/3027/')"
      ]
    },
    {
      "cell_type": "code",
      "execution_count": null,
      "metadata": {
        "colab": {
          "base_uri": "https://localhost:8080/"
        },
        "id": "bv5dO5tr3vTi",
        "outputId": "92f315e8-1aa6-4069-d797-ced33f38e9d2"
      },
      "outputs": [
        {
          "name": "stdout",
          "output_type": "stream",
          "text": [
            "9\n"
          ]
        }
      ],
      "source": [
        "a=driver.find_elements(By.XPATH, '//div[@class=\"ep_summary_content_main\"]//table/tbody/tr')\n",
        "\n",
        "# print(a)\n",
        "print(len(a))"
      ]
    },
    {
      "cell_type": "code",
      "execution_count": null,
      "metadata": {
        "colab": {
          "base_uri": "https://localhost:8080/"
        },
        "id": "tfZCDwjd4p6S",
        "outputId": "ae298484-ea96-4f67-edf0-2b30f6282578"
      },
      "outputs": [
        {
          "name": "stdout",
          "output_type": "stream",
          "text": [
            "[]\n",
            "[<selenium.webdriver.remote.webelement.WebElement (session=\"4aee9ebec2de2a0607357ce6ef9e2632\", element=\"7BA4ECBD951C0C22B6E02E6EA3895B5E_element_220\")>]\n",
            "[<selenium.webdriver.remote.webelement.WebElement (session=\"4aee9ebec2de2a0607357ce6ef9e2632\", element=\"7BA4ECBD951C0C22B6E02E6EA3895B5E_element_221\")>]\n",
            "[<selenium.webdriver.remote.webelement.WebElement (session=\"4aee9ebec2de2a0607357ce6ef9e2632\", element=\"7BA4ECBD951C0C22B6E02E6EA3895B5E_element_222\")>]\n",
            "[<selenium.webdriver.remote.webelement.WebElement (session=\"4aee9ebec2de2a0607357ce6ef9e2632\", element=\"7BA4ECBD951C0C22B6E02E6EA3895B5E_element_223\")>]\n",
            "[<selenium.webdriver.remote.webelement.WebElement (session=\"4aee9ebec2de2a0607357ce6ef9e2632\", element=\"7BA4ECBD951C0C22B6E02E6EA3895B5E_element_224\")>]\n",
            "[<selenium.webdriver.remote.webelement.WebElement (session=\"4aee9ebec2de2a0607357ce6ef9e2632\", element=\"7BA4ECBD951C0C22B6E02E6EA3895B5E_element_225\")>]\n",
            "[<selenium.webdriver.remote.webelement.WebElement (session=\"4aee9ebec2de2a0607357ce6ef9e2632\", element=\"7BA4ECBD951C0C22B6E02E6EA3895B5E_element_226\")>]\n",
            "[]\n"
          ]
        }
      ],
      "source": [
        "for i in a:\n",
        "  print(i.find_elements(By.TAG_NAME,'th'))\n",
        "  # print(i.get_attribute('innerHTML'))\n",
        "  # break"
      ]
    }
  ],
  "metadata": {
    "colab": {
      "provenance": []
    },
    "kernelspec": {
      "display_name": "Python 3",
      "name": "python3"
    },
    "language_info": {
      "name": "python"
    },
    "widgets": {
      "application/vnd.jupyter.widget-state+json": {
        "f3b931b880a34e62b87a146905567956": {
          "model_module": "@jupyter-widgets/controls",
          "model_name": "HBoxModel",
          "model_module_version": "1.5.0",
          "state": {
            "_dom_classes": [],
            "_model_module": "@jupyter-widgets/controls",
            "_model_module_version": "1.5.0",
            "_model_name": "HBoxModel",
            "_view_count": null,
            "_view_module": "@jupyter-widgets/controls",
            "_view_module_version": "1.5.0",
            "_view_name": "HBoxView",
            "box_style": "",
            "children": [
              "IPY_MODEL_8f7e583d26aa436aabeccf8a087f9ee3",
              "IPY_MODEL_cc2fa3532f2643b195659ef20b7c0f03",
              "IPY_MODEL_b8fd7250b5ce4649b7efa6b62bbc6488"
            ],
            "layout": "IPY_MODEL_ae15427d2b4b4400800be5f9541d9350"
          }
        },
        "8f7e583d26aa436aabeccf8a087f9ee3": {
          "model_module": "@jupyter-widgets/controls",
          "model_name": "HTMLModel",
          "model_module_version": "1.5.0",
          "state": {
            "_dom_classes": [],
            "_model_module": "@jupyter-widgets/controls",
            "_model_module_version": "1.5.0",
            "_model_name": "HTMLModel",
            "_view_count": null,
            "_view_module": "@jupyter-widgets/controls",
            "_view_module_version": "1.5.0",
            "_view_name": "HTMLView",
            "description": "",
            "description_tooltip": null,
            "layout": "IPY_MODEL_34b99d938004477cb878e1ce8da1919e",
            "placeholder": "​",
            "style": "IPY_MODEL_d3b1dd1eface4de082c4d79b5f07ce9f",
            "value": "100%"
          }
        },
        "cc2fa3532f2643b195659ef20b7c0f03": {
          "model_module": "@jupyter-widgets/controls",
          "model_name": "FloatProgressModel",
          "model_module_version": "1.5.0",
          "state": {
            "_dom_classes": [],
            "_model_module": "@jupyter-widgets/controls",
            "_model_module_version": "1.5.0",
            "_model_name": "FloatProgressModel",
            "_view_count": null,
            "_view_module": "@jupyter-widgets/controls",
            "_view_module_version": "1.5.0",
            "_view_name": "ProgressView",
            "bar_style": "success",
            "description": "",
            "description_tooltip": null,
            "layout": "IPY_MODEL_587dec68ea984fb98749ad4ef6c28754",
            "max": 27,
            "min": 0,
            "orientation": "horizontal",
            "style": "IPY_MODEL_da0cf92b9bde4c4db488159baecb38fe",
            "value": 27
          }
        },
        "b8fd7250b5ce4649b7efa6b62bbc6488": {
          "model_module": "@jupyter-widgets/controls",
          "model_name": "HTMLModel",
          "model_module_version": "1.5.0",
          "state": {
            "_dom_classes": [],
            "_model_module": "@jupyter-widgets/controls",
            "_model_module_version": "1.5.0",
            "_model_name": "HTMLModel",
            "_view_count": null,
            "_view_module": "@jupyter-widgets/controls",
            "_view_module_version": "1.5.0",
            "_view_name": "HTMLView",
            "description": "",
            "description_tooltip": null,
            "layout": "IPY_MODEL_f420a9c86be94b0ca727aa1e9b2719ba",
            "placeholder": "​",
            "style": "IPY_MODEL_d37fd9741ae84e93a0757765322b3fcb",
            "value": " 27/27 [01:25&lt;00:00,  1.02it/s]"
          }
        },
        "ae15427d2b4b4400800be5f9541d9350": {
          "model_module": "@jupyter-widgets/base",
          "model_name": "LayoutModel",
          "model_module_version": "1.2.0",
          "state": {
            "_model_module": "@jupyter-widgets/base",
            "_model_module_version": "1.2.0",
            "_model_name": "LayoutModel",
            "_view_count": null,
            "_view_module": "@jupyter-widgets/base",
            "_view_module_version": "1.2.0",
            "_view_name": "LayoutView",
            "align_content": null,
            "align_items": null,
            "align_self": null,
            "border": null,
            "bottom": null,
            "display": null,
            "flex": null,
            "flex_flow": null,
            "grid_area": null,
            "grid_auto_columns": null,
            "grid_auto_flow": null,
            "grid_auto_rows": null,
            "grid_column": null,
            "grid_gap": null,
            "grid_row": null,
            "grid_template_areas": null,
            "grid_template_columns": null,
            "grid_template_rows": null,
            "height": null,
            "justify_content": null,
            "justify_items": null,
            "left": null,
            "margin": null,
            "max_height": null,
            "max_width": null,
            "min_height": null,
            "min_width": null,
            "object_fit": null,
            "object_position": null,
            "order": null,
            "overflow": null,
            "overflow_x": null,
            "overflow_y": null,
            "padding": null,
            "right": null,
            "top": null,
            "visibility": null,
            "width": null
          }
        },
        "34b99d938004477cb878e1ce8da1919e": {
          "model_module": "@jupyter-widgets/base",
          "model_name": "LayoutModel",
          "model_module_version": "1.2.0",
          "state": {
            "_model_module": "@jupyter-widgets/base",
            "_model_module_version": "1.2.0",
            "_model_name": "LayoutModel",
            "_view_count": null,
            "_view_module": "@jupyter-widgets/base",
            "_view_module_version": "1.2.0",
            "_view_name": "LayoutView",
            "align_content": null,
            "align_items": null,
            "align_self": null,
            "border": null,
            "bottom": null,
            "display": null,
            "flex": null,
            "flex_flow": null,
            "grid_area": null,
            "grid_auto_columns": null,
            "grid_auto_flow": null,
            "grid_auto_rows": null,
            "grid_column": null,
            "grid_gap": null,
            "grid_row": null,
            "grid_template_areas": null,
            "grid_template_columns": null,
            "grid_template_rows": null,
            "height": null,
            "justify_content": null,
            "justify_items": null,
            "left": null,
            "margin": null,
            "max_height": null,
            "max_width": null,
            "min_height": null,
            "min_width": null,
            "object_fit": null,
            "object_position": null,
            "order": null,
            "overflow": null,
            "overflow_x": null,
            "overflow_y": null,
            "padding": null,
            "right": null,
            "top": null,
            "visibility": null,
            "width": null
          }
        },
        "d3b1dd1eface4de082c4d79b5f07ce9f": {
          "model_module": "@jupyter-widgets/controls",
          "model_name": "DescriptionStyleModel",
          "model_module_version": "1.5.0",
          "state": {
            "_model_module": "@jupyter-widgets/controls",
            "_model_module_version": "1.5.0",
            "_model_name": "DescriptionStyleModel",
            "_view_count": null,
            "_view_module": "@jupyter-widgets/base",
            "_view_module_version": "1.2.0",
            "_view_name": "StyleView",
            "description_width": ""
          }
        },
        "587dec68ea984fb98749ad4ef6c28754": {
          "model_module": "@jupyter-widgets/base",
          "model_name": "LayoutModel",
          "model_module_version": "1.2.0",
          "state": {
            "_model_module": "@jupyter-widgets/base",
            "_model_module_version": "1.2.0",
            "_model_name": "LayoutModel",
            "_view_count": null,
            "_view_module": "@jupyter-widgets/base",
            "_view_module_version": "1.2.0",
            "_view_name": "LayoutView",
            "align_content": null,
            "align_items": null,
            "align_self": null,
            "border": null,
            "bottom": null,
            "display": null,
            "flex": null,
            "flex_flow": null,
            "grid_area": null,
            "grid_auto_columns": null,
            "grid_auto_flow": null,
            "grid_auto_rows": null,
            "grid_column": null,
            "grid_gap": null,
            "grid_row": null,
            "grid_template_areas": null,
            "grid_template_columns": null,
            "grid_template_rows": null,
            "height": null,
            "justify_content": null,
            "justify_items": null,
            "left": null,
            "margin": null,
            "max_height": null,
            "max_width": null,
            "min_height": null,
            "min_width": null,
            "object_fit": null,
            "object_position": null,
            "order": null,
            "overflow": null,
            "overflow_x": null,
            "overflow_y": null,
            "padding": null,
            "right": null,
            "top": null,
            "visibility": null,
            "width": null
          }
        },
        "da0cf92b9bde4c4db488159baecb38fe": {
          "model_module": "@jupyter-widgets/controls",
          "model_name": "ProgressStyleModel",
          "model_module_version": "1.5.0",
          "state": {
            "_model_module": "@jupyter-widgets/controls",
            "_model_module_version": "1.5.0",
            "_model_name": "ProgressStyleModel",
            "_view_count": null,
            "_view_module": "@jupyter-widgets/base",
            "_view_module_version": "1.2.0",
            "_view_name": "StyleView",
            "bar_color": null,
            "description_width": ""
          }
        },
        "f420a9c86be94b0ca727aa1e9b2719ba": {
          "model_module": "@jupyter-widgets/base",
          "model_name": "LayoutModel",
          "model_module_version": "1.2.0",
          "state": {
            "_model_module": "@jupyter-widgets/base",
            "_model_module_version": "1.2.0",
            "_model_name": "LayoutModel",
            "_view_count": null,
            "_view_module": "@jupyter-widgets/base",
            "_view_module_version": "1.2.0",
            "_view_name": "LayoutView",
            "align_content": null,
            "align_items": null,
            "align_self": null,
            "border": null,
            "bottom": null,
            "display": null,
            "flex": null,
            "flex_flow": null,
            "grid_area": null,
            "grid_auto_columns": null,
            "grid_auto_flow": null,
            "grid_auto_rows": null,
            "grid_column": null,
            "grid_gap": null,
            "grid_row": null,
            "grid_template_areas": null,
            "grid_template_columns": null,
            "grid_template_rows": null,
            "height": null,
            "justify_content": null,
            "justify_items": null,
            "left": null,
            "margin": null,
            "max_height": null,
            "max_width": null,
            "min_height": null,
            "min_width": null,
            "object_fit": null,
            "object_position": null,
            "order": null,
            "overflow": null,
            "overflow_x": null,
            "overflow_y": null,
            "padding": null,
            "right": null,
            "top": null,
            "visibility": null,
            "width": null
          }
        },
        "d37fd9741ae84e93a0757765322b3fcb": {
          "model_module": "@jupyter-widgets/controls",
          "model_name": "DescriptionStyleModel",
          "model_module_version": "1.5.0",
          "state": {
            "_model_module": "@jupyter-widgets/controls",
            "_model_module_version": "1.5.0",
            "_model_name": "DescriptionStyleModel",
            "_view_count": null,
            "_view_module": "@jupyter-widgets/base",
            "_view_module_version": "1.2.0",
            "_view_name": "StyleView",
            "description_width": ""
          }
        },
        "dd255cf4b75c4901ba466baa64c43fff": {
          "model_module": "@jupyter-widgets/controls",
          "model_name": "HBoxModel",
          "model_module_version": "1.5.0",
          "state": {
            "_dom_classes": [],
            "_model_module": "@jupyter-widgets/controls",
            "_model_module_version": "1.5.0",
            "_model_name": "HBoxModel",
            "_view_count": null,
            "_view_module": "@jupyter-widgets/controls",
            "_view_module_version": "1.5.0",
            "_view_name": "HBoxView",
            "box_style": "",
            "children": [
              "IPY_MODEL_6bb75953797440eaa5b5a4ef040f9e59",
              "IPY_MODEL_bb4c85dd22ca4fa2b7516e77967eb493",
              "IPY_MODEL_8d2cf58a64994861985c031deb348e42"
            ],
            "layout": "IPY_MODEL_489a1aaa5c484b3d938772ac00e4a67c"
          }
        },
        "6bb75953797440eaa5b5a4ef040f9e59": {
          "model_module": "@jupyter-widgets/controls",
          "model_name": "HTMLModel",
          "model_module_version": "1.5.0",
          "state": {
            "_dom_classes": [],
            "_model_module": "@jupyter-widgets/controls",
            "_model_module_version": "1.5.0",
            "_model_name": "HTMLModel",
            "_view_count": null,
            "_view_module": "@jupyter-widgets/controls",
            "_view_module_version": "1.5.0",
            "_view_name": "HTMLView",
            "description": "",
            "description_tooltip": null,
            "layout": "IPY_MODEL_5e8a6cb895c440b19e1ea63e5c2f64d1",
            "placeholder": "​",
            "style": "IPY_MODEL_e5a43f73b7ee4f4b809ec26ff3381755",
            "value": "100%"
          }
        },
        "bb4c85dd22ca4fa2b7516e77967eb493": {
          "model_module": "@jupyter-widgets/controls",
          "model_name": "FloatProgressModel",
          "model_module_version": "1.5.0",
          "state": {
            "_dom_classes": [],
            "_model_module": "@jupyter-widgets/controls",
            "_model_module_version": "1.5.0",
            "_model_name": "FloatProgressModel",
            "_view_count": null,
            "_view_module": "@jupyter-widgets/controls",
            "_view_module_version": "1.5.0",
            "_view_name": "ProgressView",
            "bar_style": "success",
            "description": "",
            "description_tooltip": null,
            "layout": "IPY_MODEL_fc84b88628ac4db3b6a9ad2805cc0e46",
            "max": 2508,
            "min": 0,
            "orientation": "horizontal",
            "style": "IPY_MODEL_b11860eb806f4978becc36f227add2c9",
            "value": 2508
          }
        },
        "8d2cf58a64994861985c031deb348e42": {
          "model_module": "@jupyter-widgets/controls",
          "model_name": "HTMLModel",
          "model_module_version": "1.5.0",
          "state": {
            "_dom_classes": [],
            "_model_module": "@jupyter-widgets/controls",
            "_model_module_version": "1.5.0",
            "_model_name": "HTMLModel",
            "_view_count": null,
            "_view_module": "@jupyter-widgets/controls",
            "_view_module_version": "1.5.0",
            "_view_name": "HTMLView",
            "description": "",
            "description_tooltip": null,
            "layout": "IPY_MODEL_b97683e12eac4fb682814a85f913043a",
            "placeholder": "​",
            "style": "IPY_MODEL_342d2aed13d54a4ab790d4c97ffefc3f",
            "value": " 2508/2508 [1:05:34&lt;00:00,  1.56s/it]"
          }
        },
        "489a1aaa5c484b3d938772ac00e4a67c": {
          "model_module": "@jupyter-widgets/base",
          "model_name": "LayoutModel",
          "model_module_version": "1.2.0",
          "state": {
            "_model_module": "@jupyter-widgets/base",
            "_model_module_version": "1.2.0",
            "_model_name": "LayoutModel",
            "_view_count": null,
            "_view_module": "@jupyter-widgets/base",
            "_view_module_version": "1.2.0",
            "_view_name": "LayoutView",
            "align_content": null,
            "align_items": null,
            "align_self": null,
            "border": null,
            "bottom": null,
            "display": null,
            "flex": null,
            "flex_flow": null,
            "grid_area": null,
            "grid_auto_columns": null,
            "grid_auto_flow": null,
            "grid_auto_rows": null,
            "grid_column": null,
            "grid_gap": null,
            "grid_row": null,
            "grid_template_areas": null,
            "grid_template_columns": null,
            "grid_template_rows": null,
            "height": null,
            "justify_content": null,
            "justify_items": null,
            "left": null,
            "margin": null,
            "max_height": null,
            "max_width": null,
            "min_height": null,
            "min_width": null,
            "object_fit": null,
            "object_position": null,
            "order": null,
            "overflow": null,
            "overflow_x": null,
            "overflow_y": null,
            "padding": null,
            "right": null,
            "top": null,
            "visibility": null,
            "width": null
          }
        },
        "5e8a6cb895c440b19e1ea63e5c2f64d1": {
          "model_module": "@jupyter-widgets/base",
          "model_name": "LayoutModel",
          "model_module_version": "1.2.0",
          "state": {
            "_model_module": "@jupyter-widgets/base",
            "_model_module_version": "1.2.0",
            "_model_name": "LayoutModel",
            "_view_count": null,
            "_view_module": "@jupyter-widgets/base",
            "_view_module_version": "1.2.0",
            "_view_name": "LayoutView",
            "align_content": null,
            "align_items": null,
            "align_self": null,
            "border": null,
            "bottom": null,
            "display": null,
            "flex": null,
            "flex_flow": null,
            "grid_area": null,
            "grid_auto_columns": null,
            "grid_auto_flow": null,
            "grid_auto_rows": null,
            "grid_column": null,
            "grid_gap": null,
            "grid_row": null,
            "grid_template_areas": null,
            "grid_template_columns": null,
            "grid_template_rows": null,
            "height": null,
            "justify_content": null,
            "justify_items": null,
            "left": null,
            "margin": null,
            "max_height": null,
            "max_width": null,
            "min_height": null,
            "min_width": null,
            "object_fit": null,
            "object_position": null,
            "order": null,
            "overflow": null,
            "overflow_x": null,
            "overflow_y": null,
            "padding": null,
            "right": null,
            "top": null,
            "visibility": null,
            "width": null
          }
        },
        "e5a43f73b7ee4f4b809ec26ff3381755": {
          "model_module": "@jupyter-widgets/controls",
          "model_name": "DescriptionStyleModel",
          "model_module_version": "1.5.0",
          "state": {
            "_model_module": "@jupyter-widgets/controls",
            "_model_module_version": "1.5.0",
            "_model_name": "DescriptionStyleModel",
            "_view_count": null,
            "_view_module": "@jupyter-widgets/base",
            "_view_module_version": "1.2.0",
            "_view_name": "StyleView",
            "description_width": ""
          }
        },
        "fc84b88628ac4db3b6a9ad2805cc0e46": {
          "model_module": "@jupyter-widgets/base",
          "model_name": "LayoutModel",
          "model_module_version": "1.2.0",
          "state": {
            "_model_module": "@jupyter-widgets/base",
            "_model_module_version": "1.2.0",
            "_model_name": "LayoutModel",
            "_view_count": null,
            "_view_module": "@jupyter-widgets/base",
            "_view_module_version": "1.2.0",
            "_view_name": "LayoutView",
            "align_content": null,
            "align_items": null,
            "align_self": null,
            "border": null,
            "bottom": null,
            "display": null,
            "flex": null,
            "flex_flow": null,
            "grid_area": null,
            "grid_auto_columns": null,
            "grid_auto_flow": null,
            "grid_auto_rows": null,
            "grid_column": null,
            "grid_gap": null,
            "grid_row": null,
            "grid_template_areas": null,
            "grid_template_columns": null,
            "grid_template_rows": null,
            "height": null,
            "justify_content": null,
            "justify_items": null,
            "left": null,
            "margin": null,
            "max_height": null,
            "max_width": null,
            "min_height": null,
            "min_width": null,
            "object_fit": null,
            "object_position": null,
            "order": null,
            "overflow": null,
            "overflow_x": null,
            "overflow_y": null,
            "padding": null,
            "right": null,
            "top": null,
            "visibility": null,
            "width": null
          }
        },
        "b11860eb806f4978becc36f227add2c9": {
          "model_module": "@jupyter-widgets/controls",
          "model_name": "ProgressStyleModel",
          "model_module_version": "1.5.0",
          "state": {
            "_model_module": "@jupyter-widgets/controls",
            "_model_module_version": "1.5.0",
            "_model_name": "ProgressStyleModel",
            "_view_count": null,
            "_view_module": "@jupyter-widgets/base",
            "_view_module_version": "1.2.0",
            "_view_name": "StyleView",
            "bar_color": null,
            "description_width": ""
          }
        },
        "b97683e12eac4fb682814a85f913043a": {
          "model_module": "@jupyter-widgets/base",
          "model_name": "LayoutModel",
          "model_module_version": "1.2.0",
          "state": {
            "_model_module": "@jupyter-widgets/base",
            "_model_module_version": "1.2.0",
            "_model_name": "LayoutModel",
            "_view_count": null,
            "_view_module": "@jupyter-widgets/base",
            "_view_module_version": "1.2.0",
            "_view_name": "LayoutView",
            "align_content": null,
            "align_items": null,
            "align_self": null,
            "border": null,
            "bottom": null,
            "display": null,
            "flex": null,
            "flex_flow": null,
            "grid_area": null,
            "grid_auto_columns": null,
            "grid_auto_flow": null,
            "grid_auto_rows": null,
            "grid_column": null,
            "grid_gap": null,
            "grid_row": null,
            "grid_template_areas": null,
            "grid_template_columns": null,
            "grid_template_rows": null,
            "height": null,
            "justify_content": null,
            "justify_items": null,
            "left": null,
            "margin": null,
            "max_height": null,
            "max_width": null,
            "min_height": null,
            "min_width": null,
            "object_fit": null,
            "object_position": null,
            "order": null,
            "overflow": null,
            "overflow_x": null,
            "overflow_y": null,
            "padding": null,
            "right": null,
            "top": null,
            "visibility": null,
            "width": null
          }
        },
        "342d2aed13d54a4ab790d4c97ffefc3f": {
          "model_module": "@jupyter-widgets/controls",
          "model_name": "DescriptionStyleModel",
          "model_module_version": "1.5.0",
          "state": {
            "_model_module": "@jupyter-widgets/controls",
            "_model_module_version": "1.5.0",
            "_model_name": "DescriptionStyleModel",
            "_view_count": null,
            "_view_module": "@jupyter-widgets/base",
            "_view_module_version": "1.2.0",
            "_view_name": "StyleView",
            "description_width": ""
          }
        }
      }
    }
  },
  "nbformat": 4,
  "nbformat_minor": 0
}