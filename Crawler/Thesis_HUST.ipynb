{
  "cells": [
    {
      "cell_type": "markdown",
      "metadata": {
        "id": "DEXJ7J2O7xJb"
      },
      "source": [
        "# ENV"
      ]
    },
    {
      "cell_type": "code",
      "execution_count": null,
      "metadata": {
        "id": "MAh0g8_a6UXx"
      },
      "outputs": [],
      "source": [
        "%%capture\n",
        "!pip install selenium\n",
        "!pip install -y chronium-chromedriver"
      ]
    },
    {
      "cell_type": "code",
      "execution_count": null,
      "metadata": {
        "id": "mpA-Wkyw8JOr"
      },
      "outputs": [],
      "source": [
        "from selenium import webdriver\n",
        "from selenium.webdriver.common.by import By\n",
        "from selenium.webdriver.chrome.options import Options\n",
        "from selenium.webdriver.chrome.service import Service\n",
        "from selenium.webdriver.support.wait import WebDriverWait\n",
        "from selenium.webdriver.support import expected_conditions as EC\n",
        "\n",
        "from IPython.display import clear_output\n",
        "from tqdm.auto import tqdm\n",
        "import pandas as pd\n",
        "import time\n",
        "import gc"
      ]
    },
    {
      "cell_type": "code",
      "execution_count": null,
      "metadata": {
        "id": "RSawiVwr8JeF"
      },
      "outputs": [],
      "source": [
        "service = Service()\n",
        "\n",
        "chrome_options = Options()\n",
        "chrome_options.page_load_strategy = 'eager'\n",
        "# chrome_options.page_load_strategy = 'none'\n",
        "\n",
        "\n",
        "chrome_options.add_argument(\"--incognito\")\n",
        "\n",
        "chrome_options.add_argument('--headless')\n",
        "chrome_options.headless = True\n",
        "chrome_options.add_argument('--no-sandbox')\n",
        "chrome_options.add_argument(\"--disable-infobars\")\n",
        "chrome_options.add_argument(\"--disable-extensions\")\n",
        "chrome_options.add_argument(\"--disable-notifications\")\n",
        "chrome_options.add_argument('--disable-dev-shm-usage')\n",
        "chrome_options.add_argument(\"--ignore-certificate-errors\")\n",
        "chrome_options.add_argument(\"disable-infobars\")\n",
        "\n",
        "chrome_options.binary_location='/content/chromedriver.exe'\n",
        "prefs = {'profile.default_content_setting_values': {'cookies': 2, 'images': 2, 'javascript': 2,\n",
        "                            'plugins': 2, 'popups': 2, 'geolocation': 2,\n",
        "                            'notifications': 2, 'auto_select_certificate': 2, 'fullscreen': 2,\n",
        "                            'mouselock': 2, 'mixed_script': 2, 'media_stream': 2,\n",
        "                            'media_stream_mic': 2, 'media_stream_camera': 2, 'protocol_handlers': 2,\n",
        "                            'ppapi_broker': 2, 'automatic_downloads': 2, 'midi_sysex': 2,\n",
        "                            'push_messaging': 2, 'ssl_cert_decisions': 2, 'metro_switch_to_desktop': 2,\n",
        "                            'protected_media_identifier': 2, 'app_banner': 2, 'site_engagement': 2,\n",
        "                            'durable_storage': 2}}\n",
        "chrome_options.add_experimental_option('prefs', prefs)"
      ]
    },
    {
      "cell_type": "markdown",
      "metadata": {
        "id": "oJA0oM1e8Qvi"
      },
      "source": [
        "# Crawl"
      ]
    },
    {
      "cell_type": "code",
      "execution_count": null,
      "metadata": {
        "id": "W2K-Om-9daUy"
      },
      "outputs": [],
      "source": [
        "thesis=pd.DataFrame({\n",
        "    'Title':[], 'Link':[], 'Check':[]\n",
        "})"
      ]
    },
    {
      "cell_type": "code",
      "execution_count": null,
      "metadata": {
        "id": "oxzLMglT8Sx8"
      },
      "outputs": [],
      "source": [
        "# get thesis link\n",
        "\n",
        "def get_thesis_link(link):\n",
        "    driver = webdriver.Chrome(service=service,options=chrome_options)\n",
        "    driver.get(link)\n",
        "    cur_row=len(thesis)\n",
        "\n",
        "    while(1):\n",
        "        print(cur_row)\n",
        "        print(driver.current_url)\n",
        "        WebDriverWait(driver, 100).until(EC.presence_of_element_located((By.XPATH,'//table[@class=\"table\"]')))\n",
        "        # WebDriverWait(driver, 100).until(EC.presence_of_element_located((By.XPATH,'//table[@class=\"table\"]//div[@class=\"col-md-12 browse-titles\"]//a')))\n",
        "        items=driver.find_elements(By.XPATH,'//table[@class=\"table\"]//div[@class=\"col-md-12 browse-titles\"]//a')\n",
        "        for item in items:\n",
        "            thesis.loc[cur_row,'Title']=item.text\n",
        "            thesis.loc[cur_row,'Link']=item.get_attribute('href')\n",
        "            thesis.loc[cur_row,'Check']='0'\n",
        "            cur_row=cur_row+1\n",
        "\n",
        "        next_button=driver.find_elements(By.XPATH,'//div[@class=\"col-md-11\"]//a[text()=\"next\"]')\n",
        "        if len(next_button)!=0:\n",
        "            next_button[0].click()\n",
        "        else:\n",
        "            driver.close()\n",
        "            return\n",
        "\n",
        "# master\n",
        "get_thesis_link(\"https://dlib.hust.edu.vn/handle/HUST/4/simple-search?location=HUST%2F4&query=&rpp=100&sort_by=score&order=desc\")\n",
        "# doctor\n",
        "get_thesis_link('https://dlib.hust.edu.vn/simple-search?location=HUST%2F3&query=&rpp=100&sort_by=score&order=desc')\n"
      ]
    },
    {
      "cell_type": "code",
      "execution_count": null,
      "metadata": {
        "id": "uZqXGLsiT_Of"
      },
      "outputs": [],
      "source": [
        "thesis.drop_duplicates(subset=['Title'],inplace=True)\n",
        "thesis.reset_index(drop=True,inplace=True)\n",
        "thesis.to_excel('hust_thesis.xlsx',index=False)"
      ]
    },
    {
      "cell_type": "code",
      "execution_count": null,
      "metadata": {
        "id": "ZX8R25Zq_HIF"
      },
      "outputs": [],
      "source": [
        "thesis=pd.read_excel('hust_thesis.xlsx')"
      ]
    },
    {
      "cell_type": "code",
      "execution_count": null,
      "metadata": {
        "colab": {
          "background_save": true,
          "base_uri": "https://localhost:8080/",
          "height": 49,
          "referenced_widgets": [
            "2ea6731c678047acad757b67b82394b4",
            "cc5abdcc71c840358aa69217a823ca63",
            "f2a30babf66c4722a35b0f0b272e04e2",
            "7880a1cb50e04e178fdf95520cb486aa",
            "7d374b9440d24d5bbfef84f3028d7ace",
            "6e609a055b9845d48c5bb6d0f5f26aaa",
            "54623697bb174be3af95023f4e4978a0",
            "e7518e5dea824223a3e8b0b04b06e1dd",
            "178d4505f9924c85b94bf277411ac837",
            "932afa372b2845cf9dd2aa78e08249b3",
            "8d6b7eebb2644877858772e9c0ff6085"
          ]
        },
        "id": "qOjWb0J5QYLG",
        "outputId": "8f65bfc0-c99a-46f1-dc29-5871160acbf5"
      },
      "outputs": [
        {
          "data": {
            "application/vnd.jupyter.widget-view+json": {
              "model_id": "2ea6731c678047acad757b67b82394b4",
              "version_major": 2,
              "version_minor": 0
            },
            "text/plain": [
              "  0%|          | 0/1000 [00:00<?, ?it/s]"
            ]
          },
          "metadata": {},
          "output_type": "display_data"
        }
      ],
      "source": [
        "# get thesis infor\n",
        "from tqdm.auto import tqdm\n",
        "\n",
        "driver = webdriver.Chrome(service=service,options=chrome_options)\n",
        "for idx in tqdm(range(0,1len(thesis)):\n",
        "    if str(thesis.loc[idx,'Check'])=='1':\n",
        "        continue\n",
        "    if idx%50==0:\n",
        "        driver.close()\n",
        "        driver = webdriver.Chrome(service=service,options=chrome_options)\n",
        "    driver.get(thesis.loc[idx,'Link'])\n",
        "    # WebDriverWait(driver, 100).until(EC.presence_of_element_located((By.XPATH,'//table[@class=\"table itemDisplayTable\"]')))\n",
        "    fields=driver.find_elements(By.XPATH,'//table[@class=\"table itemDisplayTable\"]//tr')\n",
        "    for field in fields:\n",
        "        content=field.find_elements(By.XPATH,'.//td')\n",
        "        thesis.loc[idx,content[0].text[:-2]]=', '.join([x.text for x in content[1:]])\n",
        "\n",
        "    thesis.loc[idx,'Check']='1'\n",
        "\n",
        "thesis.to_excel('hust_thesis.xlsx',index=False)"
      ]
    },
    {
      "cell_type": "code",
      "execution_count": null,
      "metadata": {
        "colab": {
          "base_uri": "https://localhost:8080/"
        },
        "id": "cGx6Xi-E9s73",
        "outputId": "63b62c66-af4f-4010-d8c8-1cc4c420eef3"
      },
      "outputs": [
        {
          "name": "stdout",
          "output_type": "stream",
          "text": [
            "CPU times: user 36.7 ms, sys: 7.73 ms, total: 44.5 ms\n",
            "Wall time: 6.72 s\n"
          ]
        }
      ],
      "source": [
        "%%time\n",
        "driver = webdriver.Chrome(service=service,options=chrome_options)\n",
        "# driver.get(\"https://dlib.hust.edu.vn/handle/HUST/11436\")\n",
        "driver.get(\"https://dlib.hust.edu.vn/handle/HUST/14406\")"
      ]
    },
    {
      "cell_type": "code",
      "execution_count": null,
      "metadata": {
        "colab": {
          "base_uri": "https://localhost:8080/"
        },
        "id": "y9IF2hBu9z2n",
        "outputId": "6202733f-5122-49b1-d660-36ae45e2e297"
      },
      "outputs": [
        {
          "name": "stdout",
          "output_type": "stream",
          "text": [
            "10\n",
            "Ứng dụng thuật toán logic mờ để điều khiển tốc độ tàu thuỷ\n",
            "\n",
            "\n",
            "Trần Hồng Cầu\n",
            "\n",
            "\n",
            "Phạm Thượng Hàn\n",
            "\n",
            "\n",
            "Logic mờ; Tàu thuỷ; Ứng dụng\n",
            "\n",
            "\n",
            "2009\n",
            "\n",
            "\n",
            "Trường Đại học Bách khoa Hà Nội\n",
            "\n",
            "\n",
            "Khái quát về động lực học và các nhiễu ảnh hưởng tới tốc độ tàu thuỷ. Điều khiển tốc độ tàu thủy theo mô hình Cybership II được sử dụng để minh họa và thí nghiệm thiết kế điều khiển kiểm soát tốc độ theo các quy luật khác nhau. Nghiên cưú lý thuyết điều khiển mờ trong điều kiện tự động, những ưu nhược điểm của của bộ điều khiển mờ và thiết kế bộ điều khiển tốc độ tàu thuỷ.\n",
            "\n",
            "\n",
            "Luận văn Thạc sỹ - Ngành Đo lường và các hệ thống điều khiển\n",
            "\n",
            "\n",
            "http://dlib.hust.edu.vn/handle/HUST/14406\n",
            "\n",
            "\n",
            "Ths-Điện\n",
            "\n",
            "\n"
          ]
        }
      ],
      "source": [
        "tmp=driver.find_elements(By.XPATH,'//table[@class=\"table itemDisplayTable\"]//tr')\n",
        "print(len(tmp))\n",
        "for i in tmp:\n",
        "    abc=i.find_elements(By.XPATH,'.//td')\n",
        "    print(', '.join([x.text for x in abc[1:]]))\n",
        "    print('\\n')\n",
        "    # print(i.text)\n",
        "    # print(i.get_attribute('href')\n",
        "    # i.click()\n",
        "    # print(driver.current_url)\n",
        "    # print(i.get_attribute('href'))"
      ]
    },
    {
      "cell_type": "markdown",
      "metadata": {
        "id": "cEpTb9NJ9rYv"
      },
      "source": [
        "# Concate"
      ]
    },
    {
      "cell_type": "code",
      "execution_count": null,
      "metadata": {
        "id": "_5HmZ2rD9tcc",
        "colab": {
          "base_uri": "https://localhost:8080/",
          "height": 49,
          "referenced_widgets": [
            "9f73e10e37c34e6b8ce521b41b7e4e9d",
            "552064e729984b9298e30b9b266bae1c",
            "13eacc1cd50f4a0e983a1bea1d9adfa2",
            "087620f5df7044bf8cb6ecd4a3b57459",
            "f3a8d2d5a1f442f493cd6b5b7435bf1a",
            "77bc57abfa544f50b8aaa1a06289ff25",
            "1ae8a7382d544a94b42ca8641e2abf5e",
            "bce7a0d9b455483eacb99f575563394d",
            "aa4c56d20e444278a08810a9976163ae",
            "b8fb3aa594ef437faaeca6ce06aa0e97",
            "05beab6e910a4c57be22da637b8fdf21"
          ]
        },
        "outputId": "db5f4ed2-e531-43bd-d833-126c1e0239f6"
      },
      "outputs": [
        {
          "output_type": "display_data",
          "data": {
            "text/plain": [
              "  0%|          | 0/22 [00:00<?, ?it/s]"
            ],
            "application/vnd.jupyter.widget-view+json": {
              "version_major": 2,
              "version_minor": 0,
              "model_id": "9f73e10e37c34e6b8ce521b41b7e4e9d"
            }
          },
          "metadata": {}
        }
      ],
      "source": [
        "import os\n",
        "import glob\n",
        "import pandas as pd\n",
        "from tqdm.auto import tqdm\n",
        "directory = '/content'\n",
        "\n",
        "xlsx_files = glob.glob(os.path.join(directory, '*.xlsx'))\n",
        "\n",
        "df=pd.read_excel(xlsx_files[0])\n",
        "for file in tqdm(xlsx_files[1:]):\n",
        "    tmp=pd.read_excel(file)\n",
        "    for idx in range(len(df)):\n",
        "        if str(df.loc[idx,'Check'])=='0' and str(tmp.loc[idx,'Check'])=='1':\n",
        "            df.loc[idx]=tmp.loc[idx]\n"
      ]
    },
    {
      "cell_type": "code",
      "source": [
        "df[df['Check']==1].to_excel('hust_thesis_all.xlsx',index=False)"
      ],
      "metadata": {
        "id": "za_A0pBNMVL4"
      },
      "execution_count": null,
      "outputs": []
    }
  ],
  "metadata": {
    "colab": {
      "provenance": []
    },
    "kernelspec": {
      "display_name": "Python 3",
      "name": "python3"
    },
    "language_info": {
      "name": "python"
    },
    "widgets": {
      "application/vnd.jupyter.widget-state+json": {
        "178d4505f9924c85b94bf277411ac837": {
          "model_module": "@jupyter-widgets/controls",
          "model_module_version": "1.5.0",
          "model_name": "ProgressStyleModel",
          "state": {
            "_model_module": "@jupyter-widgets/controls",
            "_model_module_version": "1.5.0",
            "_model_name": "ProgressStyleModel",
            "_view_count": null,
            "_view_module": "@jupyter-widgets/base",
            "_view_module_version": "1.2.0",
            "_view_name": "StyleView",
            "bar_color": null,
            "description_width": ""
          }
        },
        "2ea6731c678047acad757b67b82394b4": {
          "model_module": "@jupyter-widgets/controls",
          "model_module_version": "1.5.0",
          "model_name": "HBoxModel",
          "state": {
            "_dom_classes": [],
            "_model_module": "@jupyter-widgets/controls",
            "_model_module_version": "1.5.0",
            "_model_name": "HBoxModel",
            "_view_count": null,
            "_view_module": "@jupyter-widgets/controls",
            "_view_module_version": "1.5.0",
            "_view_name": "HBoxView",
            "box_style": "",
            "children": [
              "IPY_MODEL_cc5abdcc71c840358aa69217a823ca63",
              "IPY_MODEL_f2a30babf66c4722a35b0f0b272e04e2",
              "IPY_MODEL_7880a1cb50e04e178fdf95520cb486aa"
            ],
            "layout": "IPY_MODEL_7d374b9440d24d5bbfef84f3028d7ace"
          }
        },
        "54623697bb174be3af95023f4e4978a0": {
          "model_module": "@jupyter-widgets/controls",
          "model_module_version": "1.5.0",
          "model_name": "DescriptionStyleModel",
          "state": {
            "_model_module": "@jupyter-widgets/controls",
            "_model_module_version": "1.5.0",
            "_model_name": "DescriptionStyleModel",
            "_view_count": null,
            "_view_module": "@jupyter-widgets/base",
            "_view_module_version": "1.2.0",
            "_view_name": "StyleView",
            "description_width": ""
          }
        },
        "6e609a055b9845d48c5bb6d0f5f26aaa": {
          "model_module": "@jupyter-widgets/base",
          "model_module_version": "1.2.0",
          "model_name": "LayoutModel",
          "state": {
            "_model_module": "@jupyter-widgets/base",
            "_model_module_version": "1.2.0",
            "_model_name": "LayoutModel",
            "_view_count": null,
            "_view_module": "@jupyter-widgets/base",
            "_view_module_version": "1.2.0",
            "_view_name": "LayoutView",
            "align_content": null,
            "align_items": null,
            "align_self": null,
            "border": null,
            "bottom": null,
            "display": null,
            "flex": null,
            "flex_flow": null,
            "grid_area": null,
            "grid_auto_columns": null,
            "grid_auto_flow": null,
            "grid_auto_rows": null,
            "grid_column": null,
            "grid_gap": null,
            "grid_row": null,
            "grid_template_areas": null,
            "grid_template_columns": null,
            "grid_template_rows": null,
            "height": null,
            "justify_content": null,
            "justify_items": null,
            "left": null,
            "margin": null,
            "max_height": null,
            "max_width": null,
            "min_height": null,
            "min_width": null,
            "object_fit": null,
            "object_position": null,
            "order": null,
            "overflow": null,
            "overflow_x": null,
            "overflow_y": null,
            "padding": null,
            "right": null,
            "top": null,
            "visibility": null,
            "width": null
          }
        },
        "7880a1cb50e04e178fdf95520cb486aa": {
          "model_module": "@jupyter-widgets/controls",
          "model_module_version": "1.5.0",
          "model_name": "HTMLModel",
          "state": {
            "_dom_classes": [],
            "_model_module": "@jupyter-widgets/controls",
            "_model_module_version": "1.5.0",
            "_model_name": "HTMLModel",
            "_view_count": null,
            "_view_module": "@jupyter-widgets/controls",
            "_view_module_version": "1.5.0",
            "_view_name": "HTMLView",
            "description": "",
            "description_tooltip": null,
            "layout": "IPY_MODEL_932afa372b2845cf9dd2aa78e08249b3",
            "placeholder": "​",
            "style": "IPY_MODEL_8d6b7eebb2644877858772e9c0ff6085",
            "value": " 519/1000 [16:05&lt;1:57:15, 14.63s/it]"
          }
        },
        "7d374b9440d24d5bbfef84f3028d7ace": {
          "model_module": "@jupyter-widgets/base",
          "model_module_version": "1.2.0",
          "model_name": "LayoutModel",
          "state": {
            "_model_module": "@jupyter-widgets/base",
            "_model_module_version": "1.2.0",
            "_model_name": "LayoutModel",
            "_view_count": null,
            "_view_module": "@jupyter-widgets/base",
            "_view_module_version": "1.2.0",
            "_view_name": "LayoutView",
            "align_content": null,
            "align_items": null,
            "align_self": null,
            "border": null,
            "bottom": null,
            "display": null,
            "flex": null,
            "flex_flow": null,
            "grid_area": null,
            "grid_auto_columns": null,
            "grid_auto_flow": null,
            "grid_auto_rows": null,
            "grid_column": null,
            "grid_gap": null,
            "grid_row": null,
            "grid_template_areas": null,
            "grid_template_columns": null,
            "grid_template_rows": null,
            "height": null,
            "justify_content": null,
            "justify_items": null,
            "left": null,
            "margin": null,
            "max_height": null,
            "max_width": null,
            "min_height": null,
            "min_width": null,
            "object_fit": null,
            "object_position": null,
            "order": null,
            "overflow": null,
            "overflow_x": null,
            "overflow_y": null,
            "padding": null,
            "right": null,
            "top": null,
            "visibility": null,
            "width": null
          }
        },
        "8d6b7eebb2644877858772e9c0ff6085": {
          "model_module": "@jupyter-widgets/controls",
          "model_module_version": "1.5.0",
          "model_name": "DescriptionStyleModel",
          "state": {
            "_model_module": "@jupyter-widgets/controls",
            "_model_module_version": "1.5.0",
            "_model_name": "DescriptionStyleModel",
            "_view_count": null,
            "_view_module": "@jupyter-widgets/base",
            "_view_module_version": "1.2.0",
            "_view_name": "StyleView",
            "description_width": ""
          }
        },
        "932afa372b2845cf9dd2aa78e08249b3": {
          "model_module": "@jupyter-widgets/base",
          "model_module_version": "1.2.0",
          "model_name": "LayoutModel",
          "state": {
            "_model_module": "@jupyter-widgets/base",
            "_model_module_version": "1.2.0",
            "_model_name": "LayoutModel",
            "_view_count": null,
            "_view_module": "@jupyter-widgets/base",
            "_view_module_version": "1.2.0",
            "_view_name": "LayoutView",
            "align_content": null,
            "align_items": null,
            "align_self": null,
            "border": null,
            "bottom": null,
            "display": null,
            "flex": null,
            "flex_flow": null,
            "grid_area": null,
            "grid_auto_columns": null,
            "grid_auto_flow": null,
            "grid_auto_rows": null,
            "grid_column": null,
            "grid_gap": null,
            "grid_row": null,
            "grid_template_areas": null,
            "grid_template_columns": null,
            "grid_template_rows": null,
            "height": null,
            "justify_content": null,
            "justify_items": null,
            "left": null,
            "margin": null,
            "max_height": null,
            "max_width": null,
            "min_height": null,
            "min_width": null,
            "object_fit": null,
            "object_position": null,
            "order": null,
            "overflow": null,
            "overflow_x": null,
            "overflow_y": null,
            "padding": null,
            "right": null,
            "top": null,
            "visibility": null,
            "width": null
          }
        },
        "cc5abdcc71c840358aa69217a823ca63": {
          "model_module": "@jupyter-widgets/controls",
          "model_module_version": "1.5.0",
          "model_name": "HTMLModel",
          "state": {
            "_dom_classes": [],
            "_model_module": "@jupyter-widgets/controls",
            "_model_module_version": "1.5.0",
            "_model_name": "HTMLModel",
            "_view_count": null,
            "_view_module": "@jupyter-widgets/controls",
            "_view_module_version": "1.5.0",
            "_view_name": "HTMLView",
            "description": "",
            "description_tooltip": null,
            "layout": "IPY_MODEL_6e609a055b9845d48c5bb6d0f5f26aaa",
            "placeholder": "​",
            "style": "IPY_MODEL_54623697bb174be3af95023f4e4978a0",
            "value": " 51%"
          }
        },
        "e7518e5dea824223a3e8b0b04b06e1dd": {
          "model_module": "@jupyter-widgets/base",
          "model_module_version": "1.2.0",
          "model_name": "LayoutModel",
          "state": {
            "_model_module": "@jupyter-widgets/base",
            "_model_module_version": "1.2.0",
            "_model_name": "LayoutModel",
            "_view_count": null,
            "_view_module": "@jupyter-widgets/base",
            "_view_module_version": "1.2.0",
            "_view_name": "LayoutView",
            "align_content": null,
            "align_items": null,
            "align_self": null,
            "border": null,
            "bottom": null,
            "display": null,
            "flex": null,
            "flex_flow": null,
            "grid_area": null,
            "grid_auto_columns": null,
            "grid_auto_flow": null,
            "grid_auto_rows": null,
            "grid_column": null,
            "grid_gap": null,
            "grid_row": null,
            "grid_template_areas": null,
            "grid_template_columns": null,
            "grid_template_rows": null,
            "height": null,
            "justify_content": null,
            "justify_items": null,
            "left": null,
            "margin": null,
            "max_height": null,
            "max_width": null,
            "min_height": null,
            "min_width": null,
            "object_fit": null,
            "object_position": null,
            "order": null,
            "overflow": null,
            "overflow_x": null,
            "overflow_y": null,
            "padding": null,
            "right": null,
            "top": null,
            "visibility": null,
            "width": null
          }
        },
        "f2a30babf66c4722a35b0f0b272e04e2": {
          "model_module": "@jupyter-widgets/controls",
          "model_module_version": "1.5.0",
          "model_name": "FloatProgressModel",
          "state": {
            "_dom_classes": [],
            "_model_module": "@jupyter-widgets/controls",
            "_model_module_version": "1.5.0",
            "_model_name": "FloatProgressModel",
            "_view_count": null,
            "_view_module": "@jupyter-widgets/controls",
            "_view_module_version": "1.5.0",
            "_view_name": "ProgressView",
            "bar_style": "",
            "description": "",
            "description_tooltip": null,
            "layout": "IPY_MODEL_e7518e5dea824223a3e8b0b04b06e1dd",
            "max": 1000,
            "min": 0,
            "orientation": "horizontal",
            "style": "IPY_MODEL_178d4505f9924c85b94bf277411ac837",
            "value": 519
          }
        },
        "9f73e10e37c34e6b8ce521b41b7e4e9d": {
          "model_module": "@jupyter-widgets/controls",
          "model_name": "HBoxModel",
          "model_module_version": "1.5.0",
          "state": {
            "_dom_classes": [],
            "_model_module": "@jupyter-widgets/controls",
            "_model_module_version": "1.5.0",
            "_model_name": "HBoxModel",
            "_view_count": null,
            "_view_module": "@jupyter-widgets/controls",
            "_view_module_version": "1.5.0",
            "_view_name": "HBoxView",
            "box_style": "",
            "children": [
              "IPY_MODEL_552064e729984b9298e30b9b266bae1c",
              "IPY_MODEL_13eacc1cd50f4a0e983a1bea1d9adfa2",
              "IPY_MODEL_087620f5df7044bf8cb6ecd4a3b57459"
            ],
            "layout": "IPY_MODEL_f3a8d2d5a1f442f493cd6b5b7435bf1a"
          }
        },
        "552064e729984b9298e30b9b266bae1c": {
          "model_module": "@jupyter-widgets/controls",
          "model_name": "HTMLModel",
          "model_module_version": "1.5.0",
          "state": {
            "_dom_classes": [],
            "_model_module": "@jupyter-widgets/controls",
            "_model_module_version": "1.5.0",
            "_model_name": "HTMLModel",
            "_view_count": null,
            "_view_module": "@jupyter-widgets/controls",
            "_view_module_version": "1.5.0",
            "_view_name": "HTMLView",
            "description": "",
            "description_tooltip": null,
            "layout": "IPY_MODEL_77bc57abfa544f50b8aaa1a06289ff25",
            "placeholder": "​",
            "style": "IPY_MODEL_1ae8a7382d544a94b42ca8641e2abf5e",
            "value": "100%"
          }
        },
        "13eacc1cd50f4a0e983a1bea1d9adfa2": {
          "model_module": "@jupyter-widgets/controls",
          "model_name": "FloatProgressModel",
          "model_module_version": "1.5.0",
          "state": {
            "_dom_classes": [],
            "_model_module": "@jupyter-widgets/controls",
            "_model_module_version": "1.5.0",
            "_model_name": "FloatProgressModel",
            "_view_count": null,
            "_view_module": "@jupyter-widgets/controls",
            "_view_module_version": "1.5.0",
            "_view_name": "ProgressView",
            "bar_style": "success",
            "description": "",
            "description_tooltip": null,
            "layout": "IPY_MODEL_bce7a0d9b455483eacb99f575563394d",
            "max": 22,
            "min": 0,
            "orientation": "horizontal",
            "style": "IPY_MODEL_aa4c56d20e444278a08810a9976163ae",
            "value": 22
          }
        },
        "087620f5df7044bf8cb6ecd4a3b57459": {
          "model_module": "@jupyter-widgets/controls",
          "model_name": "HTMLModel",
          "model_module_version": "1.5.0",
          "state": {
            "_dom_classes": [],
            "_model_module": "@jupyter-widgets/controls",
            "_model_module_version": "1.5.0",
            "_model_name": "HTMLModel",
            "_view_count": null,
            "_view_module": "@jupyter-widgets/controls",
            "_view_module_version": "1.5.0",
            "_view_name": "HTMLView",
            "description": "",
            "description_tooltip": null,
            "layout": "IPY_MODEL_b8fb3aa594ef437faaeca6ce06aa0e97",
            "placeholder": "​",
            "style": "IPY_MODEL_05beab6e910a4c57be22da637b8fdf21",
            "value": " 22/22 [02:19&lt;00:00,  5.57s/it]"
          }
        },
        "f3a8d2d5a1f442f493cd6b5b7435bf1a": {
          "model_module": "@jupyter-widgets/base",
          "model_name": "LayoutModel",
          "model_module_version": "1.2.0",
          "state": {
            "_model_module": "@jupyter-widgets/base",
            "_model_module_version": "1.2.0",
            "_model_name": "LayoutModel",
            "_view_count": null,
            "_view_module": "@jupyter-widgets/base",
            "_view_module_version": "1.2.0",
            "_view_name": "LayoutView",
            "align_content": null,
            "align_items": null,
            "align_self": null,
            "border": null,
            "bottom": null,
            "display": null,
            "flex": null,
            "flex_flow": null,
            "grid_area": null,
            "grid_auto_columns": null,
            "grid_auto_flow": null,
            "grid_auto_rows": null,
            "grid_column": null,
            "grid_gap": null,
            "grid_row": null,
            "grid_template_areas": null,
            "grid_template_columns": null,
            "grid_template_rows": null,
            "height": null,
            "justify_content": null,
            "justify_items": null,
            "left": null,
            "margin": null,
            "max_height": null,
            "max_width": null,
            "min_height": null,
            "min_width": null,
            "object_fit": null,
            "object_position": null,
            "order": null,
            "overflow": null,
            "overflow_x": null,
            "overflow_y": null,
            "padding": null,
            "right": null,
            "top": null,
            "visibility": null,
            "width": null
          }
        },
        "77bc57abfa544f50b8aaa1a06289ff25": {
          "model_module": "@jupyter-widgets/base",
          "model_name": "LayoutModel",
          "model_module_version": "1.2.0",
          "state": {
            "_model_module": "@jupyter-widgets/base",
            "_model_module_version": "1.2.0",
            "_model_name": "LayoutModel",
            "_view_count": null,
            "_view_module": "@jupyter-widgets/base",
            "_view_module_version": "1.2.0",
            "_view_name": "LayoutView",
            "align_content": null,
            "align_items": null,
            "align_self": null,
            "border": null,
            "bottom": null,
            "display": null,
            "flex": null,
            "flex_flow": null,
            "grid_area": null,
            "grid_auto_columns": null,
            "grid_auto_flow": null,
            "grid_auto_rows": null,
            "grid_column": null,
            "grid_gap": null,
            "grid_row": null,
            "grid_template_areas": null,
            "grid_template_columns": null,
            "grid_template_rows": null,
            "height": null,
            "justify_content": null,
            "justify_items": null,
            "left": null,
            "margin": null,
            "max_height": null,
            "max_width": null,
            "min_height": null,
            "min_width": null,
            "object_fit": null,
            "object_position": null,
            "order": null,
            "overflow": null,
            "overflow_x": null,
            "overflow_y": null,
            "padding": null,
            "right": null,
            "top": null,
            "visibility": null,
            "width": null
          }
        },
        "1ae8a7382d544a94b42ca8641e2abf5e": {
          "model_module": "@jupyter-widgets/controls",
          "model_name": "DescriptionStyleModel",
          "model_module_version": "1.5.0",
          "state": {
            "_model_module": "@jupyter-widgets/controls",
            "_model_module_version": "1.5.0",
            "_model_name": "DescriptionStyleModel",
            "_view_count": null,
            "_view_module": "@jupyter-widgets/base",
            "_view_module_version": "1.2.0",
            "_view_name": "StyleView",
            "description_width": ""
          }
        },
        "bce7a0d9b455483eacb99f575563394d": {
          "model_module": "@jupyter-widgets/base",
          "model_name": "LayoutModel",
          "model_module_version": "1.2.0",
          "state": {
            "_model_module": "@jupyter-widgets/base",
            "_model_module_version": "1.2.0",
            "_model_name": "LayoutModel",
            "_view_count": null,
            "_view_module": "@jupyter-widgets/base",
            "_view_module_version": "1.2.0",
            "_view_name": "LayoutView",
            "align_content": null,
            "align_items": null,
            "align_self": null,
            "border": null,
            "bottom": null,
            "display": null,
            "flex": null,
            "flex_flow": null,
            "grid_area": null,
            "grid_auto_columns": null,
            "grid_auto_flow": null,
            "grid_auto_rows": null,
            "grid_column": null,
            "grid_gap": null,
            "grid_row": null,
            "grid_template_areas": null,
            "grid_template_columns": null,
            "grid_template_rows": null,
            "height": null,
            "justify_content": null,
            "justify_items": null,
            "left": null,
            "margin": null,
            "max_height": null,
            "max_width": null,
            "min_height": null,
            "min_width": null,
            "object_fit": null,
            "object_position": null,
            "order": null,
            "overflow": null,
            "overflow_x": null,
            "overflow_y": null,
            "padding": null,
            "right": null,
            "top": null,
            "visibility": null,
            "width": null
          }
        },
        "aa4c56d20e444278a08810a9976163ae": {
          "model_module": "@jupyter-widgets/controls",
          "model_name": "ProgressStyleModel",
          "model_module_version": "1.5.0",
          "state": {
            "_model_module": "@jupyter-widgets/controls",
            "_model_module_version": "1.5.0",
            "_model_name": "ProgressStyleModel",
            "_view_count": null,
            "_view_module": "@jupyter-widgets/base",
            "_view_module_version": "1.2.0",
            "_view_name": "StyleView",
            "bar_color": null,
            "description_width": ""
          }
        },
        "b8fb3aa594ef437faaeca6ce06aa0e97": {
          "model_module": "@jupyter-widgets/base",
          "model_name": "LayoutModel",
          "model_module_version": "1.2.0",
          "state": {
            "_model_module": "@jupyter-widgets/base",
            "_model_module_version": "1.2.0",
            "_model_name": "LayoutModel",
            "_view_count": null,
            "_view_module": "@jupyter-widgets/base",
            "_view_module_version": "1.2.0",
            "_view_name": "LayoutView",
            "align_content": null,
            "align_items": null,
            "align_self": null,
            "border": null,
            "bottom": null,
            "display": null,
            "flex": null,
            "flex_flow": null,
            "grid_area": null,
            "grid_auto_columns": null,
            "grid_auto_flow": null,
            "grid_auto_rows": null,
            "grid_column": null,
            "grid_gap": null,
            "grid_row": null,
            "grid_template_areas": null,
            "grid_template_columns": null,
            "grid_template_rows": null,
            "height": null,
            "justify_content": null,
            "justify_items": null,
            "left": null,
            "margin": null,
            "max_height": null,
            "max_width": null,
            "min_height": null,
            "min_width": null,
            "object_fit": null,
            "object_position": null,
            "order": null,
            "overflow": null,
            "overflow_x": null,
            "overflow_y": null,
            "padding": null,
            "right": null,
            "top": null,
            "visibility": null,
            "width": null
          }
        },
        "05beab6e910a4c57be22da637b8fdf21": {
          "model_module": "@jupyter-widgets/controls",
          "model_name": "DescriptionStyleModel",
          "model_module_version": "1.5.0",
          "state": {
            "_model_module": "@jupyter-widgets/controls",
            "_model_module_version": "1.5.0",
            "_model_name": "DescriptionStyleModel",
            "_view_count": null,
            "_view_module": "@jupyter-widgets/base",
            "_view_module_version": "1.2.0",
            "_view_name": "StyleView",
            "description_width": ""
          }
        }
      }
    }
  },
  "nbformat": 4,
  "nbformat_minor": 0
}